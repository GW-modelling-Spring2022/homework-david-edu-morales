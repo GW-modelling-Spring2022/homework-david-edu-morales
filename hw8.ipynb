{
 "cells": [
  {
   "attachments": {},
   "cell_type": "markdown",
   "metadata": {},
   "source": [
    "### Homework #08\n",
    "\n",
    "#### Table of contents\n",
    "1. [Problem One](#Problem-one)\n",
    "   1. [Step 1: set variables](#Step-1.1)\n",
    "   2. [Step 2: flow variables](#Step-1.2)\n",
    "   3. [Step 3: wall shear stress](#Step-1.3)\n",
    "2. [Problem Two](#Problem-two)\n",
    "   1. [Step 1: set variables](#Step-2.1)\n",
    "   2. [Step 2: time to steady state](#Step-2.2)\n",
    "   3. [Step 3: rising hydrograph](#Step-2.3)"
   ]
  },
  {
   "cell_type": "code",
   "execution_count": 1,
   "metadata": {},
   "outputs": [],
   "source": [
    "import numpy as np\n",
    "import pandas as pd\n",
    "import matplotlib.pyplot as plt"
   ]
  },
  {
   "attachments": {},
   "cell_type": "markdown",
   "metadata": {},
   "source": [
    "#### Problem 1\n",
    "\n",
    "Assume that free-surface flow over a plane uniform surface with slope S0=0.03 and length L=100 m, resulting from a steady rain intensity, P=25 mm/h, can be described by the kinematic wave method. Assume that the flow dynamics can be described by <mark> Manning’s equation.</mark> Compute all flow variables (h, V and q) at 10 m intervals at steady state. Assume that the roughness coefficient n=0.02 is not affected by the impact of raindrops. Show how you obtain this answer. Also, compute the wall shear stress along this flow at same spatial intervals. Knowing that the entrainment shear stress for fine sediments on the plane is 0.75 Pa, where along the plane will erosion likely take place?\n",
    "\n",
    "---"
   ]
  },
  {
   "attachments": {},
   "cell_type": "markdown",
   "metadata": {},
   "source": [
    "##### Step 1.1\n",
    "*Set the variables and convert units as necessary*"
   ]
  },
  {
   "cell_type": "code",
   "execution_count": null,
   "metadata": {},
   "outputs": [],
   "source": [
    "# set values for Kinematic wave function variables \n",
    "So = 0.03           # [-] slope\n",
    "L = 100             # [meters]\n",
    "PP = 25             # [mm/h]\n",
    "i = PP/1000/3600    # [m/s]\n",
    "\n",
    "# use variables for Manning's equation\n",
    "n = 0.02            # [-]\n",
    "Cr = 1/n            # [-]\n",
    "a = 2/3             # [-] \n",
    "b = 1/2             # [-] \n",
    "\n",
    "delx = 10           # [m] flow variables to be computed at 10m intervals\n",
    "\n",
    "# create dataframe to receive calculated flow variables\n",
    "df = pd.DataFrame(index = np.arange(0, L+delx, delx),\n",
    "                  columns=['q','h','V','tau'])\n",
    "\n",
    "# the index is horizontal displacement set at 10m intervals\n",
    "df.index.names = ['x']"
   ]
  },
  {
   "attachments": {},
   "cell_type": "markdown",
   "metadata": {},
   "source": [
    "##### Step 1.2\n",
    "*Calculate values of 'q', 'h', and 'V'*\n",
    "\n",
    "![kinematic wave equation](kinematic-wave-eqn.png)\n",
    "![friction slope parameterization](friction-slope-parameterization.png)"
   ]
  },
  {
   "cell_type": "code",
   "execution_count": 15,
   "metadata": {},
   "outputs": [],
   "source": [
    "# multiply each interval by i to calculate q\n",
    "df.q = df.index * i\n",
    "\n",
    "# rearrange the friction slope parameterization equation to calculate h\n",
    "df.h = (df.q*(Cr*So**b)**-1)**(1/(a+1))\n",
    "\n",
    "# use the q = Vh equivalence to solve for velocity\n",
    "df.V = df.q/df.h"
   ]
  },
  {
   "attachments": {},
   "cell_type": "markdown",
   "metadata": {},
   "source": [
    "##### Step 1.3\n",
    "*Calculate values of 'tau'*\n",
    "\n",
    "![wall-shear-stress](wall-shear-stress.png)"
   ]
  },
  {
   "cell_type": "code",
   "execution_count": 17,
   "metadata": {},
   "outputs": [
    {
     "data": {
      "text/html": [
       "<div>\n",
       "<style scoped>\n",
       "    .dataframe tbody tr th:only-of-type {\n",
       "        vertical-align: middle;\n",
       "    }\n",
       "\n",
       "    .dataframe tbody tr th {\n",
       "        vertical-align: top;\n",
       "    }\n",
       "\n",
       "    .dataframe thead th {\n",
       "        text-align: right;\n",
       "    }\n",
       "</style>\n",
       "<table border=\"1\" class=\"dataframe\">\n",
       "  <thead>\n",
       "    <tr style=\"text-align: right;\">\n",
       "      <th></th>\n",
       "      <th>q</th>\n",
       "      <th>h</th>\n",
       "      <th>V</th>\n",
       "      <th>Rh</th>\n",
       "      <th>tau</th>\n",
       "    </tr>\n",
       "    <tr>\n",
       "      <th>x</th>\n",
       "      <th></th>\n",
       "      <th></th>\n",
       "      <th></th>\n",
       "      <th></th>\n",
       "      <th></th>\n",
       "    </tr>\n",
       "  </thead>\n",
       "  <tbody>\n",
       "    <tr>\n",
       "      <th>0</th>\n",
       "      <td>0.000000</td>\n",
       "      <td>0.000000</td>\n",
       "      <td>NaN</td>\n",
       "      <td>NaN</td>\n",
       "      <td>NaN</td>\n",
       "    </tr>\n",
       "    <tr>\n",
       "      <th>10</th>\n",
       "      <td>0.000069</td>\n",
       "      <td>0.000876</td>\n",
       "      <td>0.079282</td>\n",
       "      <td>0.000876</td>\n",
       "      <td>0.257010</td>\n",
       "    </tr>\n",
       "    <tr>\n",
       "      <th>20</th>\n",
       "      <td>0.000139</td>\n",
       "      <td>0.001328</td>\n",
       "      <td>0.104613</td>\n",
       "      <td>0.001328</td>\n",
       "      <td>0.389554</td>\n",
       "    </tr>\n",
       "    <tr>\n",
       "      <th>30</th>\n",
       "      <td>0.000208</td>\n",
       "      <td>0.001693</td>\n",
       "      <td>0.123033</td>\n",
       "      <td>0.001693</td>\n",
       "      <td>0.496847</td>\n",
       "    </tr>\n",
       "    <tr>\n",
       "      <th>40</th>\n",
       "      <td>0.000278</td>\n",
       "      <td>0.002012</td>\n",
       "      <td>0.138038</td>\n",
       "      <td>0.002012</td>\n",
       "      <td>0.590453</td>\n",
       "    </tr>\n",
       "    <tr>\n",
       "      <th>50</th>\n",
       "      <td>0.000347</td>\n",
       "      <td>0.002301</td>\n",
       "      <td>0.150925</td>\n",
       "      <td>0.002301</td>\n",
       "      <td>0.675043</td>\n",
       "    </tr>\n",
       "    <tr>\n",
       "      <th>60</th>\n",
       "      <td>0.000417</td>\n",
       "      <td>0.002567</td>\n",
       "      <td>0.162343</td>\n",
       "      <td>0.002567</td>\n",
       "      <td>0.753079</td>\n",
       "    </tr>\n",
       "    <tr>\n",
       "      <th>70</th>\n",
       "      <td>0.000486</td>\n",
       "      <td>0.002815</td>\n",
       "      <td>0.172668</td>\n",
       "      <td>0.002815</td>\n",
       "      <td>0.826054</td>\n",
       "    </tr>\n",
       "    <tr>\n",
       "      <th>80</th>\n",
       "      <td>0.000556</td>\n",
       "      <td>0.003050</td>\n",
       "      <td>0.182142</td>\n",
       "      <td>0.003050</td>\n",
       "      <td>0.894960</td>\n",
       "    </tr>\n",
       "    <tr>\n",
       "      <th>90</th>\n",
       "      <td>0.000625</td>\n",
       "      <td>0.003273</td>\n",
       "      <td>0.190928</td>\n",
       "      <td>0.003273</td>\n",
       "      <td>0.960495</td>\n",
       "    </tr>\n",
       "    <tr>\n",
       "      <th>100</th>\n",
       "      <td>0.000694</td>\n",
       "      <td>0.003487</td>\n",
       "      <td>0.199147</td>\n",
       "      <td>0.003487</td>\n",
       "      <td>1.023174</td>\n",
       "    </tr>\n",
       "  </tbody>\n",
       "</table>\n",
       "</div>"
      ],
      "text/plain": [
       "            q         h         V        Rh       tau\n",
       "x                                                    \n",
       "0    0.000000  0.000000       NaN       NaN       NaN\n",
       "10   0.000069  0.000876  0.079282  0.000876  0.257010\n",
       "20   0.000139  0.001328  0.104613  0.001328  0.389554\n",
       "30   0.000208  0.001693  0.123033  0.001693  0.496847\n",
       "40   0.000278  0.002012  0.138038  0.002012  0.590453\n",
       "50   0.000347  0.002301  0.150925  0.002301  0.675043\n",
       "60   0.000417  0.002567  0.162343  0.002567  0.753079\n",
       "70   0.000486  0.002815  0.172668  0.002815  0.826054\n",
       "80   0.000556  0.003050  0.182142  0.003050  0.894960\n",
       "90   0.000625  0.003273  0.190928  0.003273  0.960495\n",
       "100  0.000694  0.003487  0.199147  0.003487  1.023174"
      ]
     },
     "execution_count": 17,
     "metadata": {},
     "output_type": "execute_result"
    }
   ],
   "source": [
    "# set values for physiscal characteristics of  water\n",
    "rho = 997   # [kg/m3]\n",
    "g = 9.81    # [m/s2]\n",
    "\n",
    "# calculate the hydraulic radius\n",
    "Rh = (df.V*(Cr*So**b)**-1)**(1/a)\n",
    "\n",
    "# insert radius into original dataframe\n",
    "df.insert(3, 'Rh', Rh)\n",
    "\n",
    "# calculate wall shear stress\n",
    "df.tau = rho*g*So*df.Rh\n",
    "df"
   ]
  },
  {
   "attachments": {},
   "cell_type": "markdown",
   "metadata": {},
   "source": [
    "---\n",
    "---"
   ]
  },
  {
   "attachments": {},
   "cell_type": "markdown",
   "metadata": {},
   "source": [
    "#### Problem two\n",
    "\n",
    "A wide concrete pavement is L=50 m long, and it has a slope of S0=0.025. A uniform rainfall starts at t=0, and continues for a long time at a steady rate of P=75 mmh-1. Compute the rising hydrograph (in mmh-1) at the lower end of the pavement, after this rainfall starts. Use the kinematic wave method without the effect of rain on friction losses, and assume the Manning-roughness factor n=0.03. Compute also the recession hydrograph at the lower end of the pavement after the rain stops. Present your results graphically.\n",
    "\n",
    "---"
   ]
  },
  {
   "attachments": {},
   "cell_type": "markdown",
   "metadata": {},
   "source": [
    "##### Step 2.1\n",
    "*Set the variables and convert as necessary*"
   ]
  },
  {
   "cell_type": "code",
   "execution_count": 45,
   "metadata": {},
   "outputs": [],
   "source": [
    "# set values for Kinematic wave function variables \n",
    "L = 50              # [m]\n",
    "So = 0.025          # [-]\n",
    "PP = 75             # [mm/h]\n",
    "i = PP/1000/3600    # [m/s]\n",
    "\n",
    "# use variables for Manning's equation\n",
    "n = 0.03            # [-]\n",
    "Cr = 1/n            # [-]\n",
    "a = 2/3             # [-] \n",
    "b = 1/2             # [-] \n",
    "\n",
    "Kr = Cr*So**b"
   ]
  },
  {
   "attachments": {},
   "cell_type": "markdown",
   "metadata": {},
   "source": [
    "##### Step 2.2\n",
    "*Calculate time to steady state*\n",
    "\n",
    "![time to steady state](time-steady-state.png)"
   ]
  },
  {
   "cell_type": "code",
   "execution_count": 22,
   "metadata": {},
   "outputs": [
    {
     "data": {
      "text/plain": [
       "287.5869982453773"
      ]
     },
     "execution_count": 22,
     "metadata": {},
     "output_type": "execute_result"
    }
   ],
   "source": [
    "ts = (L/(Cr*(So**b)*(i**a)))**(1/(1+a))\n",
    "ts      # [seconds]"
   ]
  },
  {
   "attachments": {},
   "cell_type": "markdown",
   "metadata": {},
   "source": [
    "##### Step 2.3\n",
    "*Calculate rising hydropgraph*\n",
    "\n",
    "![rising hydrograph](rising-hydrograph.png)"
   ]
  },
  {
   "cell_type": "code",
   "execution_count": 40,
   "metadata": {},
   "outputs": [
    {
     "data": {
      "image/png": "[encoded data removed]",
      "text/plain": [
       "<Figure size 432x288 with 1 Axes>"
      ]
     },
     "metadata": {},
     "output_type": "display_data"
    }
   ],
   "source": [
    "# create dataframe to hold qL values\n",
    "hg_rising = pd.DataFrame(index = np.arange(0, ts, 1),\n",
    "                         columns = ['qL', 'flux'])\n",
    "\n",
    "# set the index to passing time, in seconds\n",
    "hg_rising.index.names = ['time']\n",
    "\n",
    "# calculate qL using above equation\n",
    "hg_rising.qL = Cr*So**b*(i**(a+1))*(hg_rising.index**(a+1))\n",
    "\n",
    "# convert qL to runoff flux and set in correct units [mm/h]\n",
    "hg_rising.flux = hg_rising.qL/L*(1000*3600)\n",
    "\n",
    "# plot rising hydrograph\n",
    "fig, ax = plt.subplots()\n",
    "\n",
    "hg_rising.flux.plot(xlabel='Time [seconds]', ylabel='Runoff [mm/h]')\n",
    "\n",
    "plt.xlim(0, ts); plt.ylim(0,max(hg_rising.flux)+5)\n",
    "plt.title('Rising Limb Hydrograph, x = 50m')\n",
    "fig.set_facecolor('whitesmoke')\n",
    "plt.grid()"
   ]
  },
  {
   "attachments": {},
   "cell_type": "markdown",
   "metadata": {},
   "source": [
    "##### Step 3\n",
    "*calculate falling hydrograph*\n",
    "\n",
    "![falling hydrograph](falling-hydrograph.png)"
   ]
  },
  {
   "cell_type": "code",
   "execution_count": 66,
   "metadata": {},
   "outputs": [
    {
     "data": {
      "image/png": "[encoded data removed]",
      "text/plain": [
       "<Figure size 432x288 with 1 Axes>"
      ]
     },
     "metadata": {},
     "output_type": "display_data"
    }
   ],
   "source": [
    "q_at_ts = i*L                       # set limit on qL list\n",
    "delqL = 0.000001                    # interval for implicit qL values\n",
    "\n",
    "# create dataframe to receive time values\n",
    "hg_falling = pd.DataFrame(index = np.arange(delqL, q_at_ts, delqL),\n",
    "                          columns = ['time', 'qL_normalized', 'qL_mmh'])\n",
    "\n",
    "hg_falling.index.names = ['qL']     # add name of index\n",
    "qL = hg_falling.index               # shortcut object name to qL\n",
    "\n",
    "# calculate the time for corresponding qL values\n",
    "hg_falling.time = (((a+1)*Kr**(1/(a+1))*i*qL**(a/(a+1)))**-1)*(i*L-qL)\n",
    "\n",
    "# normalize qL into runoff flux\n",
    "hg_falling.qL_normalized = qL/L\n",
    "\n",
    "# convert units of runoff flux to mm/h from m/s\n",
    "hg_falling.qL_mmh = hg_falling.qL_normalized*(1000*3600)\n",
    "\n",
    "# truncate list to exclude unnecessary tail end\n",
    "hg_falling = hg_falling[hg_falling['time'] <= 1000]\n",
    "\n",
    "# graph recession hydrograph\n",
    "fig, ax = plt.subplots()\n",
    "fig.set_facecolor('whitesmoke')\n",
    "\n",
    "plt.plot(hg_falling.time, hg_falling.qL_mmh)\n",
    "\n",
    "plt.title('Recession Hydrograph, x = 50m')\n",
    "plt.xlabel('Time [seconds]')\n",
    "plt.ylabel('Runoff [mm/h]')\n",
    "plt.ylim(0, max(hg_falling.qL_mmh)); plt.xlim(0, max(hg_falling.time))\n",
    "plt.grid()\n"
   ]
  }
 ],
 "metadata": {
  "kernelspec": {
   "display_name": "gwmod",
   "language": "python",
   "name": "python3"
  },
  "language_info": {
   "codemirror_mode": {
    "name": "ipython",
    "version": 3
   },
   "file_extension": ".py",
   "mimetype": "text/x-python",
   "name": "python",
   "nbconvert_exporter": "python",
   "pygments_lexer": "ipython3",
   "version": "3.8.12"
  },
  "orig_nbformat": 4
 },
 "nbformat": 4,
 "nbformat_minor": 2
}
