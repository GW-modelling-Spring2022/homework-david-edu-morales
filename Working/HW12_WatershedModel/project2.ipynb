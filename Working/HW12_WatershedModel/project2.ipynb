{
 "cells": [
  {
   "cell_type": "markdown",
   "metadata": {},
   "source": [
    "# Second Project - Simplified catchment w/ stream\n",
    "\n",
    "## Model Description \n",
    "This is a steady state, 3-layered box model with: recharge, a stream, ET, no-flow bedrock, topography, and a well.\n",
    "\n",
    "#### Dimensions: \n",
    "- 50 by 50 (y, x)\n",
    "- dx = dy = 1000 m\n",
    "- dz_1 = variable; dz_2 = 5m; dz_3 = 40m \n",
    "\n",
    "#### Topography\n",
    "- Land surface up to 125m above the datum on the left hand side\n",
    "- sloping to 85m above the datum on the right hand side\n",
    "\n",
    "#### Subsurface Properties: \n",
    "- Homogeneous \n",
    "- K_1 = K_3 = 8.5 m/day in x and y and z\n",
    "- K_2 = 8.5 m/day in x and y and z for [1, :, 20:] \n",
    "- Porosity = 0.1\n",
    "- Specific yield = 0.1\n",
    "- Storage coefficient=0.0001  \n",
    "\n",
    "#### Boundary Conditions: \n",
    " - Left boundary is no flow\n",
    " - Right boundary is a constant head of 70m \n",
    " - Recharge occurs at a rate of 4E-5 m/d [:, :14]\n",
    " \n",
    "#### Well: \n",
    " - Pumping well\n",
    "     - Located at (0, 21, 38)\n",
    "     - Pumping at a rate of 1500 m^3/day \n",
    "\n",
    "#### Layered Scenario\n",
    " - Low K layer - Kx=Ky=Kz=0.0001m/d\n",
    " - The well is only completed in the lowest layer\n",
    "     "
   ]
  },
  {
   "cell_type": "markdown",
   "metadata": {},
   "source": [
    "## 1. Setup the environment"
   ]
  },
  {
   "cell_type": "code",
   "execution_count": 1,
   "metadata": {},
   "outputs": [],
   "source": [
    "#the basics\n",
    "import flopy\n",
    "import numpy as np\n",
    "import matplotlib as mp\n",
    "import os\n",
    "\n",
    "#additional analysis tools\n",
    "import flopy.utils.binaryfile as bf\n",
    "from mpl_toolkits.mplot3d import Axes3D\n",
    "import matplotlib.pyplot as plt\n",
    "from matplotlib import cm\n",
    "from matplotlib.ticker import LinearLocator, FormatStrFormatter\n",
    "import csv\n",
    "\n",
    "#jupyter specific--included to show plots in notebook\n",
    "%matplotlib inline \n",
    "\n"
   ]
  },
  {
   "cell_type": "markdown",
   "metadata": {},
   "source": [
    "## 2. Setup the input variables "
   ]
  },
  {
   "cell_type": "code",
   "execution_count": 2,
   "metadata": {},
   "outputs": [
    {
     "name": "stdout",
     "output_type": "stream",
     "text": [
      "(2, 20.0, 37.0)\n"
     ]
    },
    {
     "name": "stderr",
     "output_type": "stream",
     "text": [
      "C:\\Users\\moral\\AppData\\Local\\Temp\\ipykernel_17392\\3666974756.py:26: DeprecationWarning: `np.float` is a deprecated alias for the builtin `float`. To silence this warning, use `float` by itself. Doing this will not modify any behavior and is safe. If you specifically wanted the numpy scalar type, use `np.float64` here.\n",
      "Deprecated in NumPy 1.20; for more details and guidance: https://numpy.org/devdocs/release/1.20.0-notes.html#deprecations\n",
      "  Ss = np.ones((nlay,nrow,ncol), dtype=np.float)        #define specific storage\n"
     ]
    }
   ],
   "source": [
    "## model directory\n",
    "moddir=\"../../mf2005\"\n",
    "\n",
    "# Setup image filepath\n",
    "img_path='../../images/hw11/'\n",
    "\n",
    "## Discretization\n",
    "nrow = 50 #number of rows\n",
    "ncol = 50 #number of columns\n",
    "nlay = 3  #number of layers\n",
    "\n",
    "dx= 1000 #width of grid cells in x direction \n",
    "dy= 1000 #width of grid cells in y direction \n",
    "\n",
    "with open('BASE_top_elev.csv', 'r', encoding='utf-8-sig') as reader: \n",
    "    ztop = np.genfromtxt(reader, dtype=float, delimiter=',') # top elevation of top layer (import from csv file) (dim: nrow,ncol)\n",
    "\n",
    "## Timing\n",
    "nper = 1 #number of stress periods \n",
    "steady = [True] #list noting the stress period type\n",
    "\n",
    "## Hydrogeologic parameters\n",
    "K_horiz = 8.5    #assign horizontal hydraulic conductivity \n",
    "K_vert = 8.5    #assign vertical hydraulic conductivity (along z axis)\n",
    "n = 0.1        #assign porosity\n",
    "Ss = np.ones((nlay,nrow,ncol), dtype=np.float)        #define specific storage\n",
    "Ss[:,:,:] = 1e-4\n",
    "Sy = 0.1       #assign specific yield\n",
    "uncnf = 1       #0=confined, >0 = unconfined\n",
    "\n",
    "## Recharge\n",
    "recharge = 4e-5 # m/day\n",
    "\n",
    "## Evapotranspiration\n",
    "et_field = 1e-5 # m/day occurs across right half of domain\n",
    "et_rip = 5e-4   # m/day occurs along riparian area\n",
    "\n",
    "## Well\n",
    "pumping = 0 #m3/day  #given\n",
    "well_xy= [38000, 29000] #xy location of well \n",
    "well_row = np.floor((nrow-1)-(well_xy[1]/dy)) #convert the y location to a row\n",
    "well_col=np.floor(well_xy[0]/dx-1) #convert the x location to a column\n",
    "well_loc = (2,well_row,well_col) #Well loc should be layer, row, column\n",
    "print(well_loc)\n",
    "#print(well_col)\n",
    "\n",
    "\n",
    "## Boundary conditions\n",
    "h_right = 70"
   ]
  },
  {
   "cell_type": "code",
   "execution_count": null,
   "metadata": {},
   "outputs": [],
   "source": []
  },
  {
   "cell_type": "markdown",
   "metadata": {},
   "source": [
    "## 4. Setup and run MODFLOW for the three layer scenario "
   ]
  },
  {
   "cell_type": "code",
   "execution_count": 3,
   "metadata": {},
   "outputs": [
    {
     "name": "stdout",
     "output_type": "stream",
     "text": [
      "FloPy is using the following executable to run the model: ../../mf2005.exe\n",
      "\n",
      "                                  MODFLOW-2005     \n",
      "    U.S. GEOLOGICAL SURVEY MODULAR FINITE-DIFFERENCE GROUND-WATER FLOW MODEL\n",
      "                             Version 1.11.00 8/8/2013                        \n",
      "\n",
      " Using NAME file: ThreeLayer.nam \n",
      " Run start date and time (yyyy/mm/dd hh:mm:ss): 2022/04/21 15:49:44\n",
      "\n",
      " Solving:  Stress period:     1    Time step:     1    Ground-Water Flow Eqn.\n",
      " Run end date and time (yyyy/mm/dd hh:mm:ss): 2022/04/21 15:49:44\n",
      " Elapsed run time:  0.086 Seconds\n",
      "\n",
      "  Normal termination of simulation\n"
     ]
    }
   ],
   "source": [
    "#Initialize the model\n",
    "proj = \"ThreeLayer\"\n",
    "m3 = flopy.modflow.Modflow(proj, exe_name = moddir)\n",
    "\n",
    "#Savefig object name\n",
    "m3_fig = '3-lay'\n",
    "\n",
    "## Make some changes to the parameters\n",
    "botm = np.zeros((nlay,nrow,ncol)) # initialize array of zeros for bottom elevation for each model cell (dim: nlay,nrow,ncol)\n",
    "botm[1,:,:] = 40.                  # bottom elevation of middle layer (1) is 40 m\n",
    "botm[0,:,:] = 45.                  # bottom elevation of top layer (0) is 45 m \n",
    "\n",
    "## Make a arrays for the K values\n",
    "Kz = np.zeros((nlay,nrow,ncol))     # define an array of zeros the size of the model grid (nlay, nrow, ncol)\n",
    "Kz[:,:,:] = K_vert\n",
    "Kz[1,:, 20:] = 0.0001                 # Replace the Kz in the last 30 columns of the middle layer\n",
    "\n",
    "Kh = np.zeros((nlay,nrow,ncol))     # the entire domain is set to Kh = 8.5 m/d\n",
    "Kh[:,:,:] = K_horiz                 \n",
    "\n",
    "\n",
    "## Discretization - dis ##\n",
    "dis = flopy.modflow.ModflowDis(model=m3, nlay=nlay, nrow=nrow, ncol=ncol, \n",
    "                               delr=dx, delc=dy, top=ztop, botm=botm, \n",
    "                               itmuni = 4, lenuni = 2, \n",
    "                               nper=nper, steady=steady)\n",
    "\n",
    "\n",
    "# Boundary and initial conditions - bas\n",
    "\n",
    "## DEFINE CELL ACTIVITY (IBOUND) ##\n",
    "ibound = np.ones((nlay, nrow, ncol), dtype=np.int32) #integer array of dim (z,y,x), makes all cells active                                                     \n",
    "ibound[:,:,0] = 0          # left no-flow boundary\n",
    "ibound[:,:,-1] = -1        #  right active boundary\n",
    "\n",
    "# Setup for loop to make bedrock\n",
    "for i in range(0,9): \n",
    "    if i <= 5:                              # top layer bedrock\n",
    "        ibound[0, i, 0:5-i] = 0\n",
    "        ibound[0, -1-i, 0:5-i] = 0\n",
    "    elif 6 <= i <= 7:                       # mid layer bedrock\n",
    "        for j in range(0,7):\n",
    "            ibound[1, j, 0:7-j] = 0\n",
    "            ibound[1, -1-j, 0:7-j] = 0\n",
    "    else:                                   # bot layer bedrock\n",
    "        for k in range(0,9):\n",
    "            ibound[2, k, 0:9-k] = 0\n",
    "            ibound[2, -1-k, 0:9-k] = 0\n",
    "\n",
    "\n",
    "#setup initial heads as 1 everywhere except on the boundaries\n",
    "H_init = np.ones((nlay, nrow, ncol), dtype=np.float32)  #float array (i.e. decimal), sets all heads to 1.0\n",
    "H_init[:, :, :] = h_right    #initialize the entire domain to the right head value\n",
    "bas = flopy.modflow.ModflowBas(m3, ibound=ibound, strt=H_init)\n",
    "\n",
    "#Layer properties - lpf\n",
    "lpf = flopy.modflow.ModflowLpf(m3, laytyp=uncnf, hk=Kh, \n",
    "                               vka=Kz, ss=Ss,\n",
    "                               sy=Sy,storagecoefficient=True, ipakcb=53) \n",
    "\n",
    "## RECHARGE ##\n",
    "rech_zone = np.zeros((1, nrow,ncol))\n",
    "rech_zone[:, :, 0:15] = rech_zone[:, :, 0:15] + recharge                # recharge occurs on first 15 columns\n",
    "#rch = flopy.modflow.mfrch.ModflowRch(model=m3, rech=rech_zone, ipakcb=53)\n",
    "\n",
    "\n",
    "## EVAPOTRANSPIRATION ##\n",
    "et_zone = np.zeros((nrow,ncol))\n",
    "et_zone[:, 25:] = et_zone[:, 25:] + et_field                # ET across right half of domain     \n",
    "et_zone[21:28,:] = et_zone[21:28,:] + et_rip                # ET along riparian area\n",
    "ext_depth = 1\n",
    "#evt = flopy.modflow.mfevt.ModflowEvt(model=m3, surf=ztop, evtr=et_zone, exdp=ext_depth, ipakcb=53)\n",
    "\n",
    "## WELL ##\n",
    "well_1 = [i for i in well_loc] + [pumping]\n",
    "wel_spd = {0: [well_1]} #putting the well in the bottom layer\n",
    "wel = flopy.modflow.ModflowWel(model=m3, stress_period_data=wel_spd)\n",
    "\n",
    "## STREAM ##\n",
    "# Stream characteristics\n",
    "ntrib = 2\n",
    "nseg = 3\n",
    "slope = 0.001                       # slope of streambed (m/m)\n",
    "rough = 0.04                        # roughness of streambed\n",
    "width = 1.                          # x-sectional width of channel (m)\n",
    "Flow_into_the_1st_reach = 0         # m^3/day\n",
    "set_icalc = 1                       # 1 if the stage is to be calculated based on flow, otherwise specify below\n",
    "const = 86400.0                     # multiplication constant for m3/day - see documentation for other units\n",
    "stage = 0.5                         # meters\n",
    "\n",
    "# Calculate the streambed conductance\n",
    "k_strbott = 1.36*K_horiz            #river bottom hydraulic conductivity in f/d\n",
    "sed_thick = 1                       #thickness of riverbed sediment\n",
    "\n",
    "# Setup the reach locations and numbers\n",
    "nreach = ncol                           #river extends length of domain\n",
    "str_rows = 24*np.ones(nreach,           #integer array of row numbers for each reach\n",
    "                      dtype=np.int32)    \n",
    "str_cols = np.arange(0,nreach)          #integer array of col numbers for each reach\n",
    "\n",
    "# Setup the inflows for the reaches\n",
    "Q_return = 0 # return flow from the town\n",
    "return_loc = 24\n",
    "reach_flow = np.ones((nreach), dtype=np.int32) # initially set all inflows to zero for all reaches\n",
    "reach_flow[return_loc] = Q_return # inflow to seg2 = return from town\n",
    "reach_flow[return_loc+1] = 1 # inflow to seg3 = sum of all previous segs\n",
    "\n",
    "# Setup segment and reach numbers for each grid cell\n",
    "segments = np.zeros((nreach))\n",
    "reaches = np.zeros((nreach))\n",
    "for s in range(nreach):\n",
    "    if s <= 23:                     # 1st segment/reach numbers\n",
    "        segments[s] = 1\n",
    "        reaches[s] = s+1\n",
    "    elif s == return_loc:           # 2nd segment/reach numbers\n",
    "        segments[s] = 2\n",
    "        reaches[s] = 1\n",
    "    else:                           # 3rd segment/reach numbers\n",
    "        segments[s] = 3\n",
    "        reaches[s] = s-return_loc\n",
    "\n",
    "# Setup river elevations and stages relative to surface elev. (ztop)\n",
    "surf_elev = np.zeros((nreach))      #create array of zeros the length of the stream\n",
    "for i in np.arange(nreach):\n",
    "    surf_elev[i] = ztop[str_rows[i],str_cols[i]]\n",
    "str_top = surf_elev - 1             # elevation of streambed top (1m below land surface)\n",
    "str_bott = str_top - sed_thick      #elevation of streambed bottom\n",
    "stage_elev = str_top + stage\n",
    "\n",
    "istcb2 = 53                          #save outflows to cbb file\n",
    "\n",
    "# Setup the stress period dictionary\n",
    "str_info = np.zeros((nreach,13)) # create array of zeros for recahes, each reach requires 13 input values\n",
    "\n",
    "for r in np.arange(nreach):\n",
    "    str_info[r,:] = [0, str_rows[r], str_cols[r], segments[r], reaches[r],\n",
    "                     reach_flow[r], stage_elev[r], k_strbott, str_bott[r],\n",
    "                     str_top[r], width, slope, rough] \n",
    "str_spd = {0:str_info}          # save the stream info in a stress period dictionary\n",
    "\n",
    "# Setup segments dictionary\n",
    "seg_info = np.zeros((10,nseg))\n",
    "seg_info = [[0,0,0,0,0,0,0,0,0,0,0],[0,0,0,0,0,0,0,0,0,0,0],[1,2,0,0,0,0,0,0,0,0,1]]\n",
    "str_segd = {0:seg_info}\n",
    "\n",
    "# strm = flopy.modflow.mfstr.ModflowStr(m3, mxacts=nreach, nss=nseg, ntrib=ntrib,\n",
    "#                                       ndiv=0,icalc=set_icalc, const=const, ipakcb=53,\n",
    "#                                       istcb2=53, dtype=None, stress_period_data=str_spd,\n",
    "#                                       segment_data=str_segd, extension='str')\n",
    "\n",
    "\n",
    "#Output control - OC \n",
    "spd = {(0,0):['print head', 'print budget', 'save head', 'save budget']} #create a dictionary for stress period data, where key (0,0) is associated with value ['print...'] \n",
    "oc = flopy.modflow.ModflowOc(model=m3, stress_period_data=spd, compact=True)\n",
    "\n",
    "#Numerical solver - pcg\n",
    "pcg = flopy.modflow.ModflowPcg(model=m3)\n",
    "\n",
    "#write the inputs\n",
    "m3.write_input()    \n",
    "\n",
    "#Run the model \n",
    "success, mfoutput = m3.run_model(pause=False, report=True)\n",
    "if not success:\n",
    "    raise Exception('MODFLOW did not terminate normally.')"
   ]
  },
  {
   "cell_type": "markdown",
   "metadata": {},
   "source": [
    "# 5. Plot the domains\n",
    "### 5.1 Plan view of the domain"
   ]
  },
  {
   "cell_type": "code",
   "execution_count": 4,
   "metadata": {},
   "outputs": [
    {
     "data": {
      "image/png": "[encoded data removed]",
      "text/plain": [
       "<Figure size 576x576 with 1 Axes>"
      ]
     },
     "metadata": {
      "needs_background": "light"
     },
     "output_type": "display_data"
    }
   ],
   "source": [
    "fig = plt.figure(figsize=(8, 8))\n",
    "ax = fig.add_subplot(1, 1, 1, aspect='equal')\n",
    "mapview = flopy.plot.PlotMapView(model=m3)\n",
    "ibound = mapview.plot_ibound()\n",
    "#str_m = mapview.plot_bc(\"STR\")\n",
    "wel = mapview.plot_bc(\"WEL\")\n",
    "plt.legend(handles=[mp.patches.Patch(color='purple',label='Stream',ec='black'),\n",
    "                   mp.patches.Patch(color='blue',label='Const Head Boundary',ec='black'),\n",
    "                   mp.patches.Patch(color='white',label='Active Cell',ec='black'),\n",
    "                   mp.patches.Patch(color='black',label='Inactive Cell',ec='black')],\n",
    "                   bbox_to_anchor=(1.8,1.0))\n",
    "linecollection = mapview.plot_grid()\n",
    "plt.show(mapview)"
   ]
  },
  {
   "cell_type": "markdown",
   "metadata": {},
   "source": [
    "### 5.2 Cross section of the layered model\n",
    "For more examples of cross section plotting check out this notebook: https://github.com/modflowpy/flopy/blob/develop/examples/Notebooks/flopy3.3_PlotCrossSection.ipynb "
   ]
  },
  {
   "cell_type": "code",
   "execution_count": 5,
   "metadata": {},
   "outputs": [
    {
     "data": {
      "image/png": "[encoded data removed]",
      "text/plain": [
       "<Figure size 1080x360 with 1 Axes>"
      ]
     },
     "metadata": {
      "needs_background": "light"
     },
     "output_type": "display_data"
    }
   ],
   "source": [
    "fig = plt.figure(figsize=(15, 5))\n",
    "ax = fig.add_subplot(1, 1, 1)\n",
    "\n",
    "xsect = flopy.plot.PlotCrossSection(model=m3, line={'row': well_row}) #note use the key 'column' if you want to plot a column instead\n",
    "patches = xsect.plot_ibound(color_noflow='red', color_ch='blue')\n",
    "patches = xsect.plot_bc('WEL', color='red')\n",
    "linecollection = xsect.plot_grid(color='green')\n",
    "t = ax.set_title('Row 20 Cross-Section with IBOUND Boundary Conditions')"
   ]
  },
  {
   "cell_type": "markdown",
   "metadata": {},
   "source": [
    "# 7. Read in the outputs\n",
    "\n",
    "### 7.1 Modflow outputs - Heads and budget files"
   ]
  },
  {
   "cell_type": "code",
   "execution_count": 6,
   "metadata": {},
   "outputs": [
    {
     "name": "stdout",
     "output_type": "stream",
     "text": [
      "[b'   CONSTANT HEAD', b'FLOW RIGHT FACE ', b'FLOW FRONT FACE ', b'FLOW LOWER FACE ']\n",
      "1\n",
      "[[[-999.99 -999.99 -999.99 ...   70.     70.     70.  ]\n",
      "  [-999.99 -999.99 -999.99 ...   70.     70.     70.  ]\n",
      "  [-999.99 -999.99 -999.99 ...   70.     70.     70.  ]\n",
      "  ...\n",
      "  [-999.99 -999.99 -999.99 ...   70.     70.     70.  ]\n",
      "  [-999.99 -999.99 -999.99 ...   70.     70.     70.  ]\n",
      "  [-999.99 -999.99 -999.99 ...   70.     70.     70.  ]]\n",
      "\n",
      " [[-999.99 -999.99 -999.99 ...   70.     70.     70.  ]\n",
      "  [-999.99 -999.99 -999.99 ...   70.     70.     70.  ]\n",
      "  [-999.99 -999.99 -999.99 ...   70.     70.     70.  ]\n",
      "  ...\n",
      "  [-999.99 -999.99 -999.99 ...   70.     70.     70.  ]\n",
      "  [-999.99 -999.99 -999.99 ...   70.     70.     70.  ]\n",
      "  [-999.99 -999.99 -999.99 ...   70.     70.     70.  ]]\n",
      "\n",
      " [[-999.99 -999.99 -999.99 ...   70.     70.     70.  ]\n",
      "  [-999.99 -999.99 -999.99 ...   70.     70.     70.  ]\n",
      "  [-999.99 -999.99 -999.99 ...   70.     70.     70.  ]\n",
      "  ...\n",
      "  [-999.99 -999.99 -999.99 ...   70.     70.     70.  ]\n",
      "  [-999.99 -999.99 -999.99 ...   70.     70.     70.  ]\n",
      "  [-999.99 -999.99 -999.99 ...   70.     70.     70.  ]]]\n"
     ]
    }
   ],
   "source": [
    "#Head - 3 layer model \n",
    "headobj = bf.HeadFile(proj+'.hds')    #reads the binary head file\n",
    "times = headobj.get_times()                 #returns a list of timesteps\n",
    "head_arr = headobj.get_data(totim=times[-1])   #returns a numpy array of heads for specified time (last timestep)\n",
    "\n",
    "#Water balance - 3 layer\n",
    "budgobj = bf.CellBudgetFile(proj+'.cbc')   #reads the cell budget file    \n",
    "print(budgobj.get_unique_record_names())\n",
    "kstpkper_list = budgobj.get_kstpkper()          #returns a list of stress periods & timesteps\n",
    "frf = budgobj.get_data(text='flow right face', totim=1.0) #returns an array of flow rates for right face of cells\n",
    "fff = budgobj.get_data(text='flow front face', totim=1.0) #returns an array of flow rates for front face of cells \n",
    "#rech_obj = budgobj.get_data(text='RECHARGE', totim=1.0) \n",
    "print(len(frf))\n",
    "print(head_arr)\n",
    "\n",
    "headobj = bf.HeadFile(proj+'.hds')    #reads the binary head file\n",
    "times = headobj.get_times()                #returns a list of timesteps\n",
    "head = headobj.get_data(totim=times[0]) #returns a numpy array of heads for specified time (last timestep)\n",
    "head[head == -999.99] = np.nan     \n",
    "\n",
    "budgobj = bf.CellBudgetFile(proj+'.cbc')  # reads the cell budget file\n",
    "kstpkper_list = budgobj.get_kstpkper() #returns a list of stress periods & timesteps\n",
    "\n",
    "#Get the ET from the cell budget files\n",
    "# et = budgobj.get_data(text='et', totim=1.0)\n",
    "# #et_vals = np.squeeze(et)[0,:,:] #This is a matrix of the ET fluxes [m3/day]\n",
    "# et_tot= np.sum(et_vals)\n",
    "# print(\"Total ET [m3/day]:\", et_tot) #This is the total ET flux across the domain\n",
    "\n",
    "#Get the recharge from the cell budget files\n",
    "# recharge = budgobj.get_data(text='recharge', totim=1.0)\n",
    "# #recharge_vals = np.squeeze(recharge)[0,:,:] #This is a matrix of the recharge fluxes [m3/day]\n",
    "# rch_tot = np.sum(recharge_vals)\n",
    "#print(\"Total Recharge [m3/day]:\", rch_tot)  # This is the total recharge flux across the domain\n",
    "\n",
    "\n",
    "# Get the flow rates on the cell right and front faces\n",
    "frf = budgobj.get_data(text='flow right face', totim=1.0)\n",
    "fff = budgobj.get_data(text='flow front face', totim=1.0)\n",
    "flux_vals = np.squeeze(frf)\n",
    "leftflux = np.round(flux_vals[:, 0], 4)\n",
    "rightflux = np.round(flux_vals[:, -2], 4)\n",
    "\n",
    "# Calculate the total flux across the right and left side of the domain\n",
    "right_tot = np.sum(rightflux)  # Note the units of this are L3/T\n",
    "left_tot = np.sum(leftflux)\n",
    "\n",
    "print('Left Flux =', left_tot, \" Right_flux=\", right_tot)"
   ]
  },
  {
   "cell_type": "markdown",
   "metadata": {},
   "source": [
    "# 8. Plotting\n",
    "### 8.1 Cross section plots"
   ]
  },
  {
   "cell_type": "code",
   "execution_count": 7,
   "metadata": {},
   "outputs": [
    {
     "data": {
      "image/png": "[encoded data removed]",
      "text/plain": [
       "<Figure size 1080x360 with 2 Axes>"
      ]
     },
     "metadata": {
      "needs_background": "light"
     },
     "output_type": "display_data"
    }
   ],
   "source": [
    "#### 3 layered model \n",
    "fig = plt.figure(figsize=(15, 5))\n",
    "ax = fig.add_subplot(1, 1, 1)\n",
    "\n",
    "xsect = flopy.plot.PlotCrossSection(model=m3, line={'row': well_row}) #note use the key 'column' if you want to plot a column instaed\n",
    "pc = xsect.plot_array(head_arr, masked_values=[-999.99], head=head_arr, alpha=0.5)\n",
    "patches = xsect.plot_ibound(head=head_arr)\n",
    "patches = xsect.plot_ibound(color_noflow='red', color_ch='blue')\n",
    "patches = xsect.plot_bc('WEL', color='red')\n",
    "linecollection = xsect.plot_grid(color='black', lw=0.5)\n",
    "t = ax.set_title('3 Layer Model Row 20 Cross-Section')\n",
    "cb = plt.colorbar(pc, shrink=0.75)\n",
    "#Overlay the head in a layer of the model- in this case I'm doing the top layer i.e. head3[0,:,:]\n",
    "wt = xsect.plot_surface(head_arr[0,:,:], masked_values=[-999.99], color='blue', lw=1)\n",
    "#plt.savefig(img_path+'valley-xsect_3lay')\n"
   ]
  },
  {
   "cell_type": "markdown",
   "metadata": {},
   "source": [
    "# 9. Additional plots\n",
    "### 9.1 Plot head transect"
   ]
  },
  {
   "cell_type": "code",
   "execution_count": 14,
   "metadata": {},
   "outputs": [
    {
     "data": {
      "image/png": "[encoded data removed]",
      "text/plain": [
       "<Figure size 576x432 with 1 Axes>"
      ]
     },
     "metadata": {
      "needs_background": "light"
     },
     "output_type": "display_data"
    }
   ],
   "source": [
    "fig4 = plt.figure(figsize=(8,6)) \n",
    "ax = fig4.add_subplot(1, 1, 1)\n",
    "\n",
    "\n",
    "x=np.arange(0,50000,1000) \n",
    "plt.plot(x,head[0,int(well_row),:], color='mediumvioletred', markersize=4, linestyle='--', label=\"1 layer\")\n",
    "plt.title('Head transect w/ valley topography and confining mid-layer')\n",
    "plt.xlabel('X location')\n",
    "plt.ylabel('Head')\n",
    "#fig4.text(.1, .001, \"*increased k-value (0.01 m/day) \\n color scheme from https://learnui.design/tools/data-color-picker.html\")\n",
    "plt.legend()\n",
    "plt.savefig(img_path+'head-transects_ch3')\n",
    "# plt.savefig('Head_Transect.png')"
   ]
  },
  {
   "cell_type": "markdown",
   "metadata": {},
   "source": [
    "### 9.2 1 Layer Head Contours"
   ]
  },
  {
   "cell_type": "code",
   "execution_count": 10,
   "metadata": {},
   "outputs": [
    {
     "name": "stderr",
     "output_type": "stream",
     "text": [
      "C:\\Users\\moral\\miniconda3\\envs\\gwmod\\lib\\site-packages\\flopy\\plot\\map.py:819: DeprecationWarning: plot_discharge() has been deprecated and will be replaced in version 3.3.5. Use plot_vector() instead, which should follow after postprocessing.get_specific_discharge()\n",
      "  warnings.warn(\n",
      "C:\\Users\\moral\\miniconda3\\envs\\gwmod\\lib\\site-packages\\flopy\\plot\\plotutil.py:1630: DeprecationWarning: centered_specific_discharge() has been deprecated and will be removed in version 3.3.5. Use postprocessing.get_specific_discharge() instead.\n",
      "  warnings.warn(\n"
     ]
    },
    {
     "data": {
      "text/plain": [
       "<matplotlib.colorbar.Colorbar at 0x21a9ecef460>"
      ]
     },
     "execution_count": 10,
     "metadata": {},
     "output_type": "execute_result"
    },
    {
     "data": {
      "image/png": "[encoded data removed]",
      "text/plain": [
       "<Figure size 720x720 with 2 Axes>"
      ]
     },
     "metadata": {
      "needs_background": "light"
     },
     "output_type": "display_data"
    }
   ],
   "source": [
    "#f, axes = plt.subplots(ncols=1, nrows=2, figsize=(5, 10))\n",
    "fig3=plt.figure(figsize=(10,10))\n",
    "\n",
    "modelmap = flopy.plot.PlotMapView(model=m3, layer=0) #use modelmap to attach plot to model\n",
    "#grid = modelmap.plot_grid() #plot model grid\n",
    "qm = modelmap.plot_ibound()  \n",
    "contour_levels = np.linspace(head_arr[0].min(),head_arr[0].max(),11) #set contour levels for contouring head\n",
    "head_contours = modelmap.contour_array(head_arr, levels=contour_levels) #create head contours\n",
    "flows = modelmap.plot_discharge(frf[0], fff[0], head=head_arr) #create discharge arrows\n",
    "\n",
    "#display parameters\n",
    "plt.xlabel('Lx (m)',fontsize = 14)\n",
    "plt.ylabel('Ly (m)',fontsize = 14)\n",
    "plt.title('1 layer scenario', fontsize = 15, fontweight = 'bold')\n",
    "plt.colorbar(head_contours,aspect=5)\n",
    "\n",
    "#plt.savefig(img_path+'contour-map_'+m1_fig)\n",
    "#plt.show(modelmap)\n",
    "#plt.savefig('WellScenario_vectors.png')   "
   ]
  },
  {
   "cell_type": "markdown",
   "metadata": {},
   "source": [
    "### 9.3 3 Layer head contours"
   ]
  },
  {
   "cell_type": "code",
   "execution_count": 11,
   "metadata": {},
   "outputs": [],
   "source": [
    "# #f, axes = plt.subplots(ncols=1, nrows=2, figsize=(5, 10))\n",
    "# fig3=plt.figure(figsize=(10,10))\n",
    "# # print(fff1[0][0][40])\n",
    "# # print(frf3[0][2][40])\n",
    "\n",
    "# modelmap = flopy.plot.PlotMapView(model=m3, layer=2) #use modelmap to attach plot to model\n",
    "# #grid = modelmap.plot_grid() #plot model grid\n",
    "# qm = modelmap.plot_ibound()  \n",
    "# contour_levels = np.linspace(head3[0][0].min(),head3[0][0].max(),11) #set contour levels for contouring head\n",
    "# head_contours = modelmap.contour_array(head3, levels=contour_levels) #create head contours\n",
    "# flows = modelmap.plot_discharge(frf3[0], fff3[0], head=head3) #create discharge arrows\n",
    "\n",
    "# #display parameters\n",
    "# plt.xlabel('Lx (m)',fontsize = 14)\n",
    "# plt.ylabel('Ly (m)',fontsize = 14)\n",
    "# plt.title('3 layer scenario', fontsize = 15, fontweight = 'bold')\n",
    "# plt.colorbar(head_contours,aspect=5)\n",
    "\n",
    "# plt.savefig(img_path+'contour-map_'+m3_fig)\n",
    "# #plt.show(modelmap)\n",
    "# #plt.savefig('WellScenario_vectors.png')   "
   ]
  },
  {
   "cell_type": "code",
   "execution_count": 12,
   "metadata": {},
   "outputs": [
    {
     "name": "stdout",
     "output_type": "stream",
     "text": [
      "Left Flux = 0.0  Right_flux= 0.0\n"
     ]
    }
   ],
   "source": [
    "headobj = bf.HeadFile(proj+'.hds')    #reads the binary head file\n",
    "times = headobj.get_times()                #returns a list of timesteps\n",
    "head = headobj.get_data(totim=times[0]) #returns a numpy array of heads for specified time (last timestep)\n",
    "head[head == -999.99] = np.nan     \n",
    "\n",
    "budgobj = bf.CellBudgetFile(proj+'.cbc')  # reads the cell budget file\n",
    "kstpkper_list = budgobj.get_kstpkper() #returns a list of stress periods & timesteps\n",
    "\n",
    "#Get the ET from the cell budget files\n",
    "# et = budgobj.get_data(text='et', totim=1.0)\n",
    "# #et_vals = np.squeeze(et)[0,:,:] #This is a matrix of the ET fluxes [m3/day]\n",
    "# et_tot= np.sum(et_vals)\n",
    "# print(\"Total ET [m3/day]:\", et_tot) #This is the total ET flux across the domain\n",
    "\n",
    "#Get the recharge from the cell budget files\n",
    "# recharge = budgobj.get_data(text='recharge', totim=1.0)\n",
    "# #recharge_vals = np.squeeze(recharge)[0,:,:] #This is a matrix of the recharge fluxes [m3/day]\n",
    "# rch_tot = np.sum(recharge_vals)\n",
    "#print(\"Total Recharge [m3/day]:\", rch_tot)  # This is the total recharge flux across the domain\n",
    "\n",
    "\n",
    "# Get the flow rates on the cell right and front faces\n",
    "frf = budgobj.get_data(text='flow right face', totim=1.0)\n",
    "fff = budgobj.get_data(text='flow front face', totim=1.0)\n",
    "flux_vals = np.squeeze(frf)\n",
    "leftflux = np.round(flux_vals[:, 0], 4)\n",
    "rightflux = np.round(flux_vals[:, -2], 4)\n",
    "\n",
    "# Calculate the total flux across the right and left side of the domain\n",
    "right_tot = np.sum(rightflux)  # Note the units of this are L3/T\n",
    "left_tot = np.sum(leftflux)\n",
    "\n",
    "print('Left Flux =', left_tot, \" Right_flux=\", right_tot)"
   ]
  },
  {
   "cell_type": "code",
   "execution_count": 13,
   "metadata": {},
   "outputs": [
    {
     "data": {
      "image/png": "[encoded data removed]",
      "text/plain": [
       "<Figure size 1440x720 with 4 Axes>"
      ]
     },
     "metadata": {
      "needs_background": "light"
     },
     "output_type": "display_data"
    }
   ],
   "source": [
    "#Plot ET, Recharge and WTD\n",
    "fig, (ax1, ax2, ax3) = plt.subplots(1, 3)\n",
    "fig.set_figheight(10) # calls within one line, fig(figure=(y,x))\n",
    "fig.set_figwidth(20)\n",
    "\n",
    "# #ET\n",
    "# #ax1.set_xlabel('Lx (m)', fontsize=10)\n",
    "# #ax1.set_ylabel('Ly (m)', fontsize=10)\n",
    "# ax1.set_title('ET [m3/day]', fontsize=10, fontweight='bold')\n",
    "# ax1.set_aspect('equal', 'box')\n",
    "# etplot = ax1.contourf(np.flipud(et_vals))\n",
    "# fig.colorbar(etplot, ax=ax1, shrink=0.6)\n",
    "\n",
    "\n",
    "# #Recharge\n",
    "# #ax2.set_xlabel('Lx (m)', fontsize=10)\n",
    "# #ax2.set_ylabel('Ly (m)', fontsize=10)\n",
    "# ax2.set_title('Rechg. [m3/day]', fontsize=10, fontweight='bold')\n",
    "# ax2.set_aspect('equal','box')\n",
    "# rchplot = ax2.contourf(np.flipud(recharge_vals))\n",
    "# fig.colorbar(rchplot, ax=ax2, shrink=0.6)\n",
    "\n",
    "\n",
    "## WTD ##\n",
    "#Calcualte WTD at the domain thickness (ztop) minus the head\n",
    "WTD = ztop-head\n",
    "#ax3.set_xlabel('Lx (m)', fontsize=10)\n",
    "#ax3.set_ylabel('Ly (m)', fontsize=10)\n",
    "ax3.set_title('WTD [m]', fontsize=10, fontweight='bold')\n",
    "ax3.set_aspect('equal','box')\n",
    "\n",
    "wtdplot = ax3.contourf(np.flipud(WTD[0,:,:]))\n",
    "fig.colorbar(wtdplot, ax=ax3, shrink=0.6)\n",
    "\n",
    "plt.show()"
   ]
  },
  {
   "cell_type": "code",
   "execution_count": null,
   "metadata": {},
   "outputs": [],
   "source": []
  }
 ],
 "metadata": {
  "kernelspec": {
   "display_name": "Python 3",
   "language": "python",
   "name": "python3"
  },
  "language_info": {
   "codemirror_mode": {
    "name": "ipython",
    "version": 3
   },
   "file_extension": ".py",
   "mimetype": "text/x-python",
   "name": "python",
   "nbconvert_exporter": "python",
   "pygments_lexer": "ipython3",
   "version": "3.8.12"
  }
 },
 "nbformat": 4,
 "nbformat_minor": 4
}
