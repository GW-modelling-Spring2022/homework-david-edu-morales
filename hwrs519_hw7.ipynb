{
 "cells": [
  {
   "attachments": {},
   "cell_type": "markdown",
   "metadata": {},
   "source": [
    "## HWRS 519 HW7\n",
    "\n",
    "1. [Problem One](#Problem-one)\n",
    "2. [Problem Two](#Problem-two)\n",
    "3. [Problem Three](#Problem-three)"
   ]
  },
  {
   "cell_type": "code",
   "execution_count": 1,
   "metadata": {},
   "outputs": [],
   "source": [
    "import os\n",
    "import numpy as np\n",
    "import matplotlib.pyplot as plt\n",
    "import pandas as pd"
   ]
  },
  {
   "attachments": {},
   "cell_type": "markdown",
   "metadata": {},
   "source": [
    "#### Problem one\n",
    "\n",
    "![b-c_model.png](b-c_model.png)"
   ]
  },
  {
   "attachments": {},
   "cell_type": "markdown",
   "metadata": {},
   "source": [
    "| Soil texture | Porosity | Ks [cm.s-1] | hb [cm] |\tb | hm,f [cm] |\n",
    "|--------------|----------|-------------|---------|---|-----------|\n",
    "|Sand|\t0.395|\t1.76x10-2|\t-12.1|\t4.05|\t4.95|\n",
    "|Loamy sand|\t0.410|\t1.56x10-2|\t-9.0|\t4.38|\t6.13|\n",
    "|Sandy loam|\t0.435|\t3.47x10-3|\t-21.8|\t4.90|\t11.01|\n",
    "|Silt loam|\t0.485|\t7.20x10-4|\t-78.6|\t5.30|\t16.68|\n",
    "|Loam|\t0.451|\t6.95x10-4|\t-47.8|\t5.39|\t8.89|\n",
    "|Clay loam|\t0.476|\t2.45x10-4|\t-63.0|\t8.52|\t20.88|\n",
    "|Sandy clay|\t0.426|\t2.17x10-4|\t-15.3|\t10.4|\t23.90|\n",
    "|Silty clay\t|0.492|\t1.03x10-4|\t-49.0|\t10.4|\t29.22|\n",
    "|Clay\t|0.482|\t1.28x10-4|\t-40.5|\t11.4|\t31.63|\n"
   ]
  },
  {
   "cell_type": "code",
   "execution_count": 18,
   "metadata": {},
   "outputs": [
    {
     "data": {
      "text/html": [
       "<div>\n",
       "<style scoped>\n",
       "    .dataframe tbody tr th:only-of-type {\n",
       "        vertical-align: middle;\n",
       "    }\n",
       "\n",
       "    .dataframe tbody tr th {\n",
       "        vertical-align: top;\n",
       "    }\n",
       "\n",
       "    .dataframe thead th {\n",
       "        text-align: right;\n",
       "    }\n",
       "</style>\n",
       "<table border=\"1\" class=\"dataframe\">\n",
       "  <thead>\n",
       "    <tr style=\"text-align: right;\">\n",
       "      <th></th>\n",
       "      <th>texture</th>\n",
       "      <th>porosity</th>\n",
       "      <th>Ks</th>\n",
       "      <th>hb</th>\n",
       "      <th>b</th>\n",
       "      <th>hm</th>\n",
       "    </tr>\n",
       "  </thead>\n",
       "  <tbody>\n",
       "    <tr>\n",
       "      <th>0</th>\n",
       "      <td>sand</td>\n",
       "      <td>0.395</td>\n",
       "      <td>0.017600</td>\n",
       "      <td>-12.1</td>\n",
       "      <td>4.05</td>\n",
       "      <td>4.95</td>\n",
       "    </tr>\n",
       "    <tr>\n",
       "      <th>1</th>\n",
       "      <td>loamy sand</td>\n",
       "      <td>0.410</td>\n",
       "      <td>0.015600</td>\n",
       "      <td>-9.0</td>\n",
       "      <td>4.38</td>\n",
       "      <td>6.13</td>\n",
       "    </tr>\n",
       "    <tr>\n",
       "      <th>2</th>\n",
       "      <td>sandy loam</td>\n",
       "      <td>0.435</td>\n",
       "      <td>0.003470</td>\n",
       "      <td>-21.8</td>\n",
       "      <td>4.90</td>\n",
       "      <td>11.01</td>\n",
       "    </tr>\n",
       "    <tr>\n",
       "      <th>3</th>\n",
       "      <td>silt loam</td>\n",
       "      <td>0.485</td>\n",
       "      <td>0.000720</td>\n",
       "      <td>-78.6</td>\n",
       "      <td>5.30</td>\n",
       "      <td>16.68</td>\n",
       "    </tr>\n",
       "    <tr>\n",
       "      <th>4</th>\n",
       "      <td>loam</td>\n",
       "      <td>0.451</td>\n",
       "      <td>0.000695</td>\n",
       "      <td>-47.8</td>\n",
       "      <td>5.39</td>\n",
       "      <td>8.89</td>\n",
       "    </tr>\n",
       "    <tr>\n",
       "      <th>5</th>\n",
       "      <td>clay loam</td>\n",
       "      <td>0.476</td>\n",
       "      <td>0.000245</td>\n",
       "      <td>-63.0</td>\n",
       "      <td>8.52</td>\n",
       "      <td>20.88</td>\n",
       "    </tr>\n",
       "    <tr>\n",
       "      <th>6</th>\n",
       "      <td>sandy clay</td>\n",
       "      <td>0.426</td>\n",
       "      <td>0.000217</td>\n",
       "      <td>-15.3</td>\n",
       "      <td>10.40</td>\n",
       "      <td>23.90</td>\n",
       "    </tr>\n",
       "    <tr>\n",
       "      <th>7</th>\n",
       "      <td>silty clay</td>\n",
       "      <td>0.492</td>\n",
       "      <td>0.000103</td>\n",
       "      <td>-49.0</td>\n",
       "      <td>10.40</td>\n",
       "      <td>29.22</td>\n",
       "    </tr>\n",
       "    <tr>\n",
       "      <th>8</th>\n",
       "      <td>clay</td>\n",
       "      <td>0.482</td>\n",
       "      <td>0.000128</td>\n",
       "      <td>-40.5</td>\n",
       "      <td>11.40</td>\n",
       "      <td>31.63</td>\n",
       "    </tr>\n",
       "  </tbody>\n",
       "</table>\n",
       "</div>"
      ],
      "text/plain": [
       "      texture  porosity        Ks    hb      b     hm\n",
       "0        sand     0.395  0.017600 -12.1   4.05   4.95\n",
       "1  loamy sand     0.410  0.015600  -9.0   4.38   6.13\n",
       "2  sandy loam     0.435  0.003470 -21.8   4.90  11.01\n",
       "3   silt loam     0.485  0.000720 -78.6   5.30  16.68\n",
       "4        loam     0.451  0.000695 -47.8   5.39   8.89\n",
       "5   clay loam     0.476  0.000245 -63.0   8.52  20.88\n",
       "6  sandy clay     0.426  0.000217 -15.3  10.40  23.90\n",
       "7  silty clay     0.492  0.000103 -49.0  10.40  29.22\n",
       "8        clay     0.482  0.000128 -40.5  11.40  31.63"
      ]
     },
     "execution_count": 18,
     "metadata": {},
     "output_type": "execute_result"
    }
   ],
   "source": [
    "soils"
   ]
  },
  {
   "cell_type": "code",
   "execution_count": 100,
   "metadata": {},
   "outputs": [],
   "source": [
    "# set up dictionary of soil characteristics\n",
    "d = {'texture': ['sand','loamy sand','sandy loam','silt loam','loam','clay loam','sandy clay','silty clay','clay'],\n",
    "         'porosity' : [.395,.41,.435,.485,.451,.476,.426,.492,.482],\n",
    "         'Ks' : [1.76e-2,1.56e-2,3.47e-3,7.2e-4,6.95e-4,2.45e-4,2.17e-4,1.03e-4,1.28e-4],\n",
    "         'hb' : [-12.1,-9,-21.8,-78.6,-47.8,-63,-15.3,-49,-40.5],\n",
    "         'b'  : [4.05,4.38,4.9,5.3,5.39,8.52,10.4,10.4,11.4],\n",
    "         'hm' : [4.95,6.13,11.01,16.68,8.89,20.88,23.9,29.22,31.63]\n",
    "        }\n",
    "\n",
    "# create dataframe of soil characteristics\n",
    "soils = pd.DataFrame(d)\n",
    "# create a list of soil names\n",
    "soilList = soils.texture.to_list()\n",
    "# set soil names as index\n",
    "soils.set_index('texture', inplace=True)\n",
    "\n",
    "# create an initial df with matric potentials\n",
    "soilTable = pd.DataFrame(np.arange(-1000, 0.0, .01), columns=['hm'])\n",
    "# create dictionary with soil name keys and matric potentials\n",
    "soilDict = {soilList[key]: soilTable for key in range(len(soilList))}\n",
    "\n",
    "# brooks-corey model function\n",
    "def bcModel(Ks,hb,b,hm):\n",
    "    theta = (hm/hb)**(-1/b)\n",
    "    K_unsat = Ks*theta**(2*b+3)\n",
    "\n",
    "    return theta, K_unsat"
   ]
  },
  {
   "cell_type": "code",
   "execution_count": 92,
   "metadata": {},
   "outputs": [
    {
     "ename": "AttributeError",
     "evalue": "'DataFrame' object has no attribute 'texture'",
     "output_type": "error",
     "traceback": [
      "\u001b[1;31m---------------------------------------------------------------------------\u001b[0m",
      "\u001b[1;31mAttributeError\u001b[0m                            Traceback (most recent call last)",
      "\u001b[1;32mc:\\Users\\moral\\HAS_582\\homework-david-edu-morales\\hwrs519_hw7.ipynb Cell 7\u001b[0m in \u001b[0;36m<module>\u001b[1;34m\u001b[0m\n\u001b[0;32m      <a href='vscode-notebook-cell:/c%3A/Users/moral/HAS_582/homework-david-edu-morales/hwrs519_hw7.ipynb#X30sZmlsZQ%3D%3D?line=0'>1</a>\u001b[0m \u001b[39m# create a list of soil names\u001b[39;00m\n\u001b[1;32m----> <a href='vscode-notebook-cell:/c%3A/Users/moral/HAS_582/homework-david-edu-morales/hwrs519_hw7.ipynb#X30sZmlsZQ%3D%3D?line=1'>2</a>\u001b[0m soilList \u001b[39m=\u001b[39m soils\u001b[39m.\u001b[39;49mtexture\u001b[39m.\u001b[39mto_list()\n\u001b[0;32m      <a href='vscode-notebook-cell:/c%3A/Users/moral/HAS_582/homework-david-edu-morales/hwrs519_hw7.ipynb#X30sZmlsZQ%3D%3D?line=2'>3</a>\u001b[0m \u001b[39m# create an initial df with matric potentials\u001b[39;00m\n\u001b[0;32m      <a href='vscode-notebook-cell:/c%3A/Users/moral/HAS_582/homework-david-edu-morales/hwrs519_hw7.ipynb#X30sZmlsZQ%3D%3D?line=3'>4</a>\u001b[0m soilTable \u001b[39m=\u001b[39m pd\u001b[39m.\u001b[39mDataFrame(np\u001b[39m.\u001b[39marange(\u001b[39m-\u001b[39m\u001b[39m1000\u001b[39m, \u001b[39m0.01\u001b[39m, \u001b[39m.1\u001b[39m), columns\u001b[39m=\u001b[39m[\u001b[39m'\u001b[39m\u001b[39mhm\u001b[39m\u001b[39m'\u001b[39m])\n",
      "File \u001b[1;32mc:\\Users\\moral\\miniconda3\\envs\\gwmod\\lib\\site-packages\\pandas\\core\\generic.py:5487\u001b[0m, in \u001b[0;36mNDFrame.__getattr__\u001b[1;34m(self, name)\u001b[0m\n\u001b[0;32m   5480\u001b[0m \u001b[39mif\u001b[39;00m (\n\u001b[0;32m   5481\u001b[0m     name \u001b[39mnot\u001b[39;00m \u001b[39min\u001b[39;00m \u001b[39mself\u001b[39m\u001b[39m.\u001b[39m_internal_names_set\n\u001b[0;32m   5482\u001b[0m     \u001b[39mand\u001b[39;00m name \u001b[39mnot\u001b[39;00m \u001b[39min\u001b[39;00m \u001b[39mself\u001b[39m\u001b[39m.\u001b[39m_metadata\n\u001b[0;32m   5483\u001b[0m     \u001b[39mand\u001b[39;00m name \u001b[39mnot\u001b[39;00m \u001b[39min\u001b[39;00m \u001b[39mself\u001b[39m\u001b[39m.\u001b[39m_accessors\n\u001b[0;32m   5484\u001b[0m     \u001b[39mand\u001b[39;00m \u001b[39mself\u001b[39m\u001b[39m.\u001b[39m_info_axis\u001b[39m.\u001b[39m_can_hold_identifiers_and_holds_name(name)\n\u001b[0;32m   5485\u001b[0m ):\n\u001b[0;32m   5486\u001b[0m     \u001b[39mreturn\u001b[39;00m \u001b[39mself\u001b[39m[name]\n\u001b[1;32m-> 5487\u001b[0m \u001b[39mreturn\u001b[39;00m \u001b[39mobject\u001b[39;49m\u001b[39m.\u001b[39;49m\u001b[39m__getattribute__\u001b[39;49m(\u001b[39mself\u001b[39;49m, name)\n",
      "\u001b[1;31mAttributeError\u001b[0m: 'DataFrame' object has no attribute 'texture'"
     ]
    }
   ],
   "source": [
    "# create a list of soil names\n",
    "soilList = soils.texture.to_list()\n",
    "# create an initial df with matric potentials\n",
    "soilTable = pd.DataFrame(np.arange(-1000, 0.01, .1), columns=['hm'])\n",
    "# create dictionary with soil name keys and matric potentials\n",
    "soilDict = {soilList[key]: soilTable for key in range(len(soilList))}\n",
    "soilDict['sand']\n",
    "\n",
    "hmList = np.arange(-1000, 0.01, .1)\n",
    "hmdf = pd.DataFrame([-1000,-100,-10,-1,-.1,-.01], columns=['hm'])"
   ]
  },
  {
   "cell_type": "code",
   "execution_count": 80,
   "metadata": {},
   "outputs": [
    {
     "data": {
      "text/plain": [
       "0.0176"
      ]
     },
     "execution_count": 80,
     "metadata": {},
     "output_type": "execute_result"
    }
   ],
   "source": [
    "soilDict['sand']\n",
    "soils.loc['sand'].Ks"
   ]
  },
  {
   "cell_type": "code",
   "execution_count": 101,
   "metadata": {},
   "outputs": [],
   "source": [
    "for key in soilList:\n",
    "    df = soils.loc[key]\n",
    "    soilDict[key]['theta'] = bcModel(df.Ks,df.hb,df.b,soilDict[key].hm)[0]\n",
    "    soilDict[key]['K_unsat'] = bcModel(df.Ks,df.hb,df.b,soilDict[key].hm)[1]\n",
    "\n",
    "\n",
    "#hmdf['K_unsat'] = bcModel(1.28e-4,-40.5,11.4,hmdf)\n",
    "# hmdf['theta'] = bcModel(1.28e-4,-40.5,11.4,hmdf.hm)[0]\n",
    "# hmdf['K_unsat'] = bcModel(1.28e-4,-40.5,11.4,hmdf.hm)[1]\n",
    "# hmdf"
   ]
  },
  {
   "cell_type": "code",
   "execution_count": 102,
   "metadata": {},
   "outputs": [
    {
     "data": {
      "text/html": [
       "<div>\n",
       "<style scoped>\n",
       "    .dataframe tbody tr th:only-of-type {\n",
       "        vertical-align: middle;\n",
       "    }\n",
       "\n",
       "    .dataframe tbody tr th {\n",
       "        vertical-align: top;\n",
       "    }\n",
       "\n",
       "    .dataframe thead th {\n",
       "        text-align: right;\n",
       "    }\n",
       "</style>\n",
       "<table border=\"1\" class=\"dataframe\">\n",
       "  <thead>\n",
       "    <tr style=\"text-align: right;\">\n",
       "      <th></th>\n",
       "      <th>hm</th>\n",
       "      <th>theta</th>\n",
       "      <th>K_unsat</th>\n",
       "    </tr>\n",
       "  </thead>\n",
       "  <tbody>\n",
       "    <tr>\n",
       "      <th>0</th>\n",
       "      <td>-1000.00</td>\n",
       "      <td>0.754826</td>\n",
       "      <td>9.029440e-08</td>\n",
       "    </tr>\n",
       "    <tr>\n",
       "      <th>1</th>\n",
       "      <td>-999.99</td>\n",
       "      <td>0.754827</td>\n",
       "      <td>9.029644e-08</td>\n",
       "    </tr>\n",
       "    <tr>\n",
       "      <th>2</th>\n",
       "      <td>-999.98</td>\n",
       "      <td>0.754827</td>\n",
       "      <td>9.029849e-08</td>\n",
       "    </tr>\n",
       "    <tr>\n",
       "      <th>3</th>\n",
       "      <td>-999.97</td>\n",
       "      <td>0.754828</td>\n",
       "      <td>9.030053e-08</td>\n",
       "    </tr>\n",
       "    <tr>\n",
       "      <th>4</th>\n",
       "      <td>-999.96</td>\n",
       "      <td>0.754829</td>\n",
       "      <td>9.030257e-08</td>\n",
       "    </tr>\n",
       "    <tr>\n",
       "      <th>...</th>\n",
       "      <td>...</td>\n",
       "      <td>...</td>\n",
       "      <td>...</td>\n",
       "    </tr>\n",
       "    <tr>\n",
       "      <th>99995</th>\n",
       "      <td>-0.05</td>\n",
       "      <td>1.799411</td>\n",
       "      <td>4.892950e+02</td>\n",
       "    </tr>\n",
       "    <tr>\n",
       "      <th>99996</th>\n",
       "      <td>-0.04</td>\n",
       "      <td>1.834979</td>\n",
       "      <td>8.107621e+02</td>\n",
       "    </tr>\n",
       "    <tr>\n",
       "      <th>99997</th>\n",
       "      <td>-0.03</td>\n",
       "      <td>1.881875</td>\n",
       "      <td>1.554710e+03</td>\n",
       "    </tr>\n",
       "    <tr>\n",
       "      <th>99998</th>\n",
       "      <td>-0.02</td>\n",
       "      <td>1.950012</td>\n",
       "      <td>3.891991e+03</td>\n",
       "    </tr>\n",
       "    <tr>\n",
       "      <th>99999</th>\n",
       "      <td>-0.01</td>\n",
       "      <td>2.072256</td>\n",
       "      <td>1.868315e+04</td>\n",
       "    </tr>\n",
       "  </tbody>\n",
       "</table>\n",
       "<p>100000 rows × 3 columns</p>\n",
       "</div>"
      ],
      "text/plain": [
       "            hm     theta       K_unsat\n",
       "0     -1000.00  0.754826  9.029440e-08\n",
       "1      -999.99  0.754827  9.029644e-08\n",
       "2      -999.98  0.754827  9.029849e-08\n",
       "3      -999.97  0.754828  9.030053e-08\n",
       "4      -999.96  0.754829  9.030257e-08\n",
       "...        ...       ...           ...\n",
       "99995    -0.05  1.799411  4.892950e+02\n",
       "99996    -0.04  1.834979  8.107621e+02\n",
       "99997    -0.03  1.881875  1.554710e+03\n",
       "99998    -0.02  1.950012  3.891991e+03\n",
       "99999    -0.01  2.072256  1.868315e+04\n",
       "\n",
       "[100000 rows x 3 columns]"
      ]
     },
     "execution_count": 102,
     "metadata": {},
     "output_type": "execute_result"
    }
   ],
   "source": [
    "soilDict['sand']"
   ]
  },
  {
   "attachments": {},
   "cell_type": "markdown",
   "metadata": {},
   "source": [
    "#### Problem two"
   ]
  },
  {
   "attachments": {},
   "cell_type": "markdown",
   "metadata": {},
   "source": [
    "#### Problem three"
   ]
  },
  {
   "attachments": {},
   "cell_type": "markdown",
   "metadata": {},
   "source": [
    "sdf"
   ]
  }
 ],
 "metadata": {
  "kernelspec": {
   "display_name": "gwmod",
   "language": "python",
   "name": "python3"
  },
  "language_info": {
   "codemirror_mode": {
    "name": "ipython",
    "version": 3
   },
   "file_extension": ".py",
   "mimetype": "text/x-python",
   "name": "python",
   "nbconvert_exporter": "python",
   "pygments_lexer": "ipython3",
   "version": "3.8.12"
  },
  "orig_nbformat": 4
 },
 "nbformat": 4,
 "nbformat_minor": 2
}
