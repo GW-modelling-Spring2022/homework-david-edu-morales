{
 "cells": [
  {
   "attachments": {},
   "cell_type": "markdown",
   "metadata": {},
   "source": [
    "## HWRS 519 HW7\n",
    "\n",
    "1. [Problem One](#Problem-one)\n",
    "2. [Problem Two](#Problem-two)\n",
    "3. [Problem Three](#Problem-three)"
   ]
  },
  {
   "cell_type": "code",
   "execution_count": 1,
   "metadata": {},
   "outputs": [],
   "source": [
    "import os\n",
    "import numpy as np\n",
    "import matplotlib.pyplot as plt\n",
    "import pandas as pd"
   ]
  },
  {
   "attachments": {},
   "cell_type": "markdown",
   "metadata": {},
   "source": [
    "#### Problem one\n",
    "\n",
    "![b-c_model.png](b-c_model.png)"
   ]
  },
  {
   "attachments": {},
   "cell_type": "markdown",
   "metadata": {},
   "source": [
    "| Soil texture | Porosity | Ks [cm.s-1] | hb [cm] |\tb | hm,f [cm] |\n",
    "|--------------|----------|-------------|---------|---|-----------|\n",
    "|Sand|\t0.395|\t1.76x10-2|\t-12.1|\t4.05|\t4.95|\n",
    "|Loamy sand|\t0.410|\t1.56x10-2|\t-9.0|\t4.38|\t6.13|\n",
    "|Sandy loam|\t0.435|\t3.47x10-3|\t-21.8|\t4.90|\t11.01|\n",
    "|Silt loam|\t0.485|\t7.20x10-4|\t-78.6|\t5.30|\t16.68|\n",
    "|Loam|\t0.451|\t6.95x10-4|\t-47.8|\t5.39|\t8.89|\n",
    "|Clay loam|\t0.476|\t2.45x10-4|\t-63.0|\t8.52|\t20.88|\n",
    "|Sandy clay|\t0.426|\t2.17x10-4|\t-15.3|\t10.4|\t23.90|\n",
    "|Silty clay\t|0.492|\t1.03x10-4|\t-49.0|\t10.4|\t29.22|\n",
    "|Clay\t|0.482|\t1.28x10-4|\t-40.5|\t11.4|\t31.63|\n"
   ]
  },
  {
   "cell_type": "code",
   "execution_count": 100,
   "metadata": {},
   "outputs": [],
   "source": [
    "# set up dictionary of soil characteristics\n",
    "d = {'texture': ['sand','loamy sand','sandy loam','silt loam','loam','clay loam','sandy clay','silty clay','clay'],\n",
    "         'porosity' : [.395,.41,.435,.485,.451,.476,.426,.492,.482],\n",
    "         'Ks' : [1.76e-2,1.56e-2,3.47e-3,7.2e-4,6.95e-4,2.45e-4,2.17e-4,1.03e-4,1.28e-4],\n",
    "         'hb' : [-12.1,-9,-21.8,-78.6,-47.8,-63,-15.3,-49,-40.5],\n",
    "         'b'  : [4.05,4.38,4.9,5.3,5.39,8.52,10.4,10.4,11.4],\n",
    "         'hm' : [4.95,6.13,11.01,16.68,8.89,20.88,23.9,29.22,31.63]\n",
    "        }\n",
    "\n",
    "# create dataframe of soil characteristics\n",
    "soils = pd.DataFrame(d)\n",
    "# create a list of soil names\n",
    "soilList = soils.texture.to_list()\n",
    "# set soil names as index\n",
    "soils.set_index('texture', inplace=True)\n",
    "\n",
    "# create an initial df with matric potentials\n",
    "soilTable = pd.DataFrame(np.arange(-1000, 0.0, .01), columns=['hm'])\n",
    "# create dictionary with soil name keys and matric potentials\n",
    "soilDict = {soilList[key]: soilTable for key in range(len(soilList))}\n",
    "\n",
    "# brooks-corey model function\n",
    "def bcModel(Ks,hb,b,hm):\n",
    "    theta = (hm/hb)**(-1/b)\n",
    "    K_unsat = Ks*theta**(2*b+3)\n",
    "\n",
    "    return theta, K_unsat"
   ]
  },
  {
   "cell_type": "code",
   "execution_count": 123,
   "metadata": {},
   "outputs": [
    {
     "name": "stdout",
     "output_type": "stream",
     "text": [
      "0    0.336212\n",
      "Name: hm, dtype: float64\n",
      "0    0.34114\n",
      "Name: hm, dtype: float64\n",
      "0    0.458046\n",
      "Name: hm, dtype: float64\n",
      "0    0.618855\n",
      "Name: hm, dtype: float64\n",
      "0    0.568848\n",
      "Name: hm, dtype: float64\n",
      "0    0.722899\n",
      "Name: hm, dtype: float64\n",
      "0    0.669038\n",
      "Name: hm, dtype: float64\n",
      "0    0.748268\n",
      "Name: hm, dtype: float64\n",
      "0    0.754826\n",
      "Name: hm, dtype: float64\n"
     ]
    }
   ],
   "source": [
    "for key in soilList:\n",
    "    df = soils.loc[key]\n",
    "    print(bcModel(df.Ks,df.hb,df.b,soilDict[key].hm)[0])"
   ]
  },
  {
   "cell_type": "code",
   "execution_count": 126,
   "metadata": {},
   "outputs": [],
   "source": [
    "soilList = ['sand']\n",
    "for key in soilList:\n",
    "    df = soils.loc[key]\n",
    "    soilDict[key]['theta'] = bcModel(df.Ks,df.hb,df.b,soilDict[key].hm)[0]\n",
    "    soilDict[key]['K_unsat'] = bcModel(df.Ks,df.hb,df.b,soilDict[key].hm)[1]"
   ]
  },
  {
   "cell_type": "code",
   "execution_count": 128,
   "metadata": {},
   "outputs": [
    {
     "data": {
      "text/html": [
       "<div>\n",
       "<style scoped>\n",
       "    .dataframe tbody tr th:only-of-type {\n",
       "        vertical-align: middle;\n",
       "    }\n",
       "\n",
       "    .dataframe tbody tr th {\n",
       "        vertical-align: top;\n",
       "    }\n",
       "\n",
       "    .dataframe thead th {\n",
       "        text-align: right;\n",
       "    }\n",
       "</style>\n",
       "<table border=\"1\" class=\"dataframe\">\n",
       "  <thead>\n",
       "    <tr style=\"text-align: right;\">\n",
       "      <th></th>\n",
       "      <th>hm</th>\n",
       "      <th>theta</th>\n",
       "      <th>K_unsat</th>\n",
       "    </tr>\n",
       "  </thead>\n",
       "  <tbody>\n",
       "    <tr>\n",
       "      <th>0</th>\n",
       "      <td>-1000.00</td>\n",
       "      <td>0.336212</td>\n",
       "      <td>9.793195e-08</td>\n",
       "    </tr>\n",
       "    <tr>\n",
       "      <th>1</th>\n",
       "      <td>-999.99</td>\n",
       "      <td>0.336213</td>\n",
       "      <td>9.793464e-08</td>\n",
       "    </tr>\n",
       "    <tr>\n",
       "      <th>2</th>\n",
       "      <td>-999.98</td>\n",
       "      <td>0.336214</td>\n",
       "      <td>9.793732e-08</td>\n",
       "    </tr>\n",
       "    <tr>\n",
       "      <th>3</th>\n",
       "      <td>-999.97</td>\n",
       "      <td>0.336215</td>\n",
       "      <td>9.794001e-08</td>\n",
       "    </tr>\n",
       "    <tr>\n",
       "      <th>4</th>\n",
       "      <td>-999.96</td>\n",
       "      <td>0.336216</td>\n",
       "      <td>9.794269e-08</td>\n",
       "    </tr>\n",
       "    <tr>\n",
       "      <th>...</th>\n",
       "      <td>...</td>\n",
       "      <td>...</td>\n",
       "      <td>...</td>\n",
       "    </tr>\n",
       "    <tr>\n",
       "      <th>99995</th>\n",
       "      <td>-0.05</td>\n",
       "      <td>3.877898</td>\n",
       "      <td>6.010804e+04</td>\n",
       "    </tr>\n",
       "    <tr>\n",
       "      <th>99996</th>\n",
       "      <td>-0.04</td>\n",
       "      <td>4.097555</td>\n",
       "      <td>1.107995e+05</td>\n",
       "    </tr>\n",
       "    <tr>\n",
       "      <th>99997</th>\n",
       "      <td>-0.03</td>\n",
       "      <td>4.399201</td>\n",
       "      <td>2.437600e+05</td>\n",
       "    </tr>\n",
       "    <tr>\n",
       "      <th>99998</th>\n",
       "      <td>-0.02</td>\n",
       "      <td>4.862428</td>\n",
       "      <td>7.405986e+05</td>\n",
       "    </tr>\n",
       "    <tr>\n",
       "      <th>99999</th>\n",
       "      <td>-0.01</td>\n",
       "      <td>5.770076</td>\n",
       "      <td>4.950260e+06</td>\n",
       "    </tr>\n",
       "  </tbody>\n",
       "</table>\n",
       "<p>100000 rows × 3 columns</p>\n",
       "</div>"
      ],
      "text/plain": [
       "            hm     theta       K_unsat\n",
       "0     -1000.00  0.336212  9.793195e-08\n",
       "1      -999.99  0.336213  9.793464e-08\n",
       "2      -999.98  0.336214  9.793732e-08\n",
       "3      -999.97  0.336215  9.794001e-08\n",
       "4      -999.96  0.336216  9.794269e-08\n",
       "...        ...       ...           ...\n",
       "99995    -0.05  3.877898  6.010804e+04\n",
       "99996    -0.04  4.097555  1.107995e+05\n",
       "99997    -0.03  4.399201  2.437600e+05\n",
       "99998    -0.02  4.862428  7.405986e+05\n",
       "99999    -0.01  5.770076  4.950260e+06\n",
       "\n",
       "[100000 rows x 3 columns]"
      ]
     },
     "execution_count": 128,
     "metadata": {},
     "output_type": "execute_result"
    }
   ],
   "source": [
    "soilDict['sand']"
   ]
  },
  {
   "cell_type": "code",
   "execution_count": 117,
   "metadata": {},
   "outputs": [
    {
     "data": {
      "text/html": [
       "<div>\n",
       "<style scoped>\n",
       "    .dataframe tbody tr th:only-of-type {\n",
       "        vertical-align: middle;\n",
       "    }\n",
       "\n",
       "    .dataframe tbody tr th {\n",
       "        vertical-align: top;\n",
       "    }\n",
       "\n",
       "    .dataframe thead th {\n",
       "        text-align: right;\n",
       "    }\n",
       "</style>\n",
       "<table border=\"1\" class=\"dataframe\">\n",
       "  <thead>\n",
       "    <tr style=\"text-align: right;\">\n",
       "      <th></th>\n",
       "      <th>hm</th>\n",
       "      <th>theta</th>\n",
       "      <th>K_unsat</th>\n",
       "    </tr>\n",
       "  </thead>\n",
       "  <tbody>\n",
       "    <tr>\n",
       "      <th>0</th>\n",
       "      <td>-1000.00</td>\n",
       "      <td>0.754826</td>\n",
       "      <td>9.029440e-08</td>\n",
       "    </tr>\n",
       "    <tr>\n",
       "      <th>1</th>\n",
       "      <td>-999.99</td>\n",
       "      <td>0.754827</td>\n",
       "      <td>9.029644e-08</td>\n",
       "    </tr>\n",
       "    <tr>\n",
       "      <th>2</th>\n",
       "      <td>-999.98</td>\n",
       "      <td>0.754827</td>\n",
       "      <td>9.029849e-08</td>\n",
       "    </tr>\n",
       "    <tr>\n",
       "      <th>3</th>\n",
       "      <td>-999.97</td>\n",
       "      <td>0.754828</td>\n",
       "      <td>9.030053e-08</td>\n",
       "    </tr>\n",
       "    <tr>\n",
       "      <th>4</th>\n",
       "      <td>-999.96</td>\n",
       "      <td>0.754829</td>\n",
       "      <td>9.030257e-08</td>\n",
       "    </tr>\n",
       "    <tr>\n",
       "      <th>...</th>\n",
       "      <td>...</td>\n",
       "      <td>...</td>\n",
       "      <td>...</td>\n",
       "    </tr>\n",
       "    <tr>\n",
       "      <th>99995</th>\n",
       "      <td>-0.05</td>\n",
       "      <td>1.799411</td>\n",
       "      <td>4.892950e+02</td>\n",
       "    </tr>\n",
       "    <tr>\n",
       "      <th>99996</th>\n",
       "      <td>-0.04</td>\n",
       "      <td>1.834979</td>\n",
       "      <td>8.107621e+02</td>\n",
       "    </tr>\n",
       "    <tr>\n",
       "      <th>99997</th>\n",
       "      <td>-0.03</td>\n",
       "      <td>1.881875</td>\n",
       "      <td>1.554710e+03</td>\n",
       "    </tr>\n",
       "    <tr>\n",
       "      <th>99998</th>\n",
       "      <td>-0.02</td>\n",
       "      <td>1.950012</td>\n",
       "      <td>3.891991e+03</td>\n",
       "    </tr>\n",
       "    <tr>\n",
       "      <th>99999</th>\n",
       "      <td>-0.01</td>\n",
       "      <td>2.072256</td>\n",
       "      <td>1.868315e+04</td>\n",
       "    </tr>\n",
       "  </tbody>\n",
       "</table>\n",
       "<p>100000 rows × 3 columns</p>\n",
       "</div>"
      ],
      "text/plain": [
       "            hm     theta       K_unsat\n",
       "0     -1000.00  0.754826  9.029440e-08\n",
       "1      -999.99  0.754827  9.029644e-08\n",
       "2      -999.98  0.754827  9.029849e-08\n",
       "3      -999.97  0.754828  9.030053e-08\n",
       "4      -999.96  0.754829  9.030257e-08\n",
       "...        ...       ...           ...\n",
       "99995    -0.05  1.799411  4.892950e+02\n",
       "99996    -0.04  1.834979  8.107621e+02\n",
       "99997    -0.03  1.881875  1.554710e+03\n",
       "99998    -0.02  1.950012  3.891991e+03\n",
       "99999    -0.01  2.072256  1.868315e+04\n",
       "\n",
       "[100000 rows x 3 columns]"
      ]
     },
     "execution_count": 117,
     "metadata": {},
     "output_type": "execute_result"
    }
   ],
   "source": [
    "soilDict['silty clay']"
   ]
  },
  {
   "cell_type": "code",
   "execution_count": 115,
   "metadata": {},
   "outputs": [
    {
     "data": {
      "text/plain": [
       "['sand',\n",
       " 'loamy sand',\n",
       " 'sandy loam',\n",
       " 'silt loam',\n",
       " 'loam',\n",
       " 'clay loam',\n",
       " 'sandy clay',\n",
       " 'silty clay',\n",
       " 'clay']"
      ]
     },
     "execution_count": 115,
     "metadata": {},
     "output_type": "execute_result"
    }
   ],
   "source": [
    "soilList"
   ]
  },
  {
   "cell_type": "code",
   "execution_count": 114,
   "metadata": {},
   "outputs": [
    {
     "data": {
      "image/png": "[encoded data removed]",
      "text/plain": [
       "<Figure size 432x288 with 1 Axes>"
      ]
     },
     "metadata": {
      "needs_background": "light"
     },
     "output_type": "display_data"
    }
   ],
   "source": [
    "fig, ax = plt.subplots()\n",
    "\n",
    "for key in soilList:\n",
    "    df = soilDict[key]\n",
    "    ax.plot(df.hm,df.K_unsat)\n",
    "    plt.yscale('log')\n",
    "plt.show()\n"
   ]
  },
  {
   "cell_type": "code",
   "execution_count": 113,
   "metadata": {},
   "outputs": [
    {
     "ename": "KeyError",
     "evalue": "\"None of [Float64Index([              -1000.0,               -999.99,\\n                            -999.98,               -999.97,\\n                            -999.96,               -999.95,\\n                            -999.94,    -999.9300000000001,\\n                 -999.9200000000001,    -999.9100000000001,\\n              ...\\n               -0.10000000090940375,  -0.09000000090941285,\\n               -0.08000000090942194,  -0.07000000090943104,\\n               -0.06000000090944013,  -0.05000000090944923,\\n               -0.04000000090945832, -0.030000000909467417,\\n              -0.020000000909476512, -0.010000000909485607],\\n             dtype='float64', length=100000)] are in the [columns]\"",
     "output_type": "error",
     "traceback": [
      "\u001b[1;31m---------------------------------------------------------------------------\u001b[0m",
      "\u001b[1;31mKeyError\u001b[0m                                  Traceback (most recent call last)",
      "\u001b[1;32mc:\\Users\\moral\\HAS_582\\homework-david-edu-morales\\hwrs519_hw7.ipynb Cell 10\u001b[0m in \u001b[0;36m<module>\u001b[1;34m\u001b[0m\n\u001b[0;32m      <a href='vscode-notebook-cell:/c%3A/Users/moral/HAS_582/homework-david-edu-morales/hwrs519_hw7.ipynb#X40sZmlsZQ%3D%3D?line=0'>1</a>\u001b[0m \u001b[39mfor\u001b[39;00m key \u001b[39min\u001b[39;00m soilList:\n\u001b[0;32m      <a href='vscode-notebook-cell:/c%3A/Users/moral/HAS_582/homework-david-edu-morales/hwrs519_hw7.ipynb#X40sZmlsZQ%3D%3D?line=1'>2</a>\u001b[0m     df \u001b[39m=\u001b[39m soilDict[key]\n\u001b[1;32m----> <a href='vscode-notebook-cell:/c%3A/Users/moral/HAS_582/homework-david-edu-morales/hwrs519_hw7.ipynb#X40sZmlsZQ%3D%3D?line=2'>3</a>\u001b[0m     ax \u001b[39m=\u001b[39m df\u001b[39m.\u001b[39;49mplot(df\u001b[39m.\u001b[39;49mhm,df\u001b[39m.\u001b[39;49mK_unsat)\n",
      "File \u001b[1;32mc:\\Users\\moral\\miniconda3\\envs\\gwmod\\lib\\site-packages\\pandas\\plotting\\_core.py:937\u001b[0m, in \u001b[0;36mPlotAccessor.__call__\u001b[1;34m(self, *args, **kwargs)\u001b[0m\n\u001b[0;32m    935\u001b[0m \u001b[39mif\u001b[39;00m is_integer(x) \u001b[39mand\u001b[39;00m \u001b[39mnot\u001b[39;00m data\u001b[39m.\u001b[39mcolumns\u001b[39m.\u001b[39mholds_integer():\n\u001b[0;32m    936\u001b[0m     x \u001b[39m=\u001b[39m data_cols[x]\n\u001b[1;32m--> 937\u001b[0m \u001b[39melif\u001b[39;00m \u001b[39mnot\u001b[39;00m \u001b[39misinstance\u001b[39m(data[x], ABCSeries):\n\u001b[0;32m    938\u001b[0m     \u001b[39mraise\u001b[39;00m \u001b[39mValueError\u001b[39;00m(\u001b[39m\"\u001b[39m\u001b[39mx must be a label or position\u001b[39m\u001b[39m\"\u001b[39m)\n\u001b[0;32m    939\u001b[0m data \u001b[39m=\u001b[39m data\u001b[39m.\u001b[39mset_index(x)\n",
      "File \u001b[1;32mc:\\Users\\moral\\miniconda3\\envs\\gwmod\\lib\\site-packages\\pandas\\core\\frame.py:3464\u001b[0m, in \u001b[0;36mDataFrame.__getitem__\u001b[1;34m(self, key)\u001b[0m\n\u001b[0;32m   3462\u001b[0m     \u001b[39mif\u001b[39;00m is_iterator(key):\n\u001b[0;32m   3463\u001b[0m         key \u001b[39m=\u001b[39m \u001b[39mlist\u001b[39m(key)\n\u001b[1;32m-> 3464\u001b[0m     indexer \u001b[39m=\u001b[39m \u001b[39mself\u001b[39;49m\u001b[39m.\u001b[39;49mloc\u001b[39m.\u001b[39;49m_get_listlike_indexer(key, axis\u001b[39m=\u001b[39;49m\u001b[39m1\u001b[39;49m)[\u001b[39m1\u001b[39m]\n\u001b[0;32m   3466\u001b[0m \u001b[39m# take() does not accept boolean indexers\u001b[39;00m\n\u001b[0;32m   3467\u001b[0m \u001b[39mif\u001b[39;00m \u001b[39mgetattr\u001b[39m(indexer, \u001b[39m\"\u001b[39m\u001b[39mdtype\u001b[39m\u001b[39m\"\u001b[39m, \u001b[39mNone\u001b[39;00m) \u001b[39m==\u001b[39m \u001b[39mbool\u001b[39m:\n",
      "File \u001b[1;32mc:\\Users\\moral\\miniconda3\\envs\\gwmod\\lib\\site-packages\\pandas\\core\\indexing.py:1314\u001b[0m, in \u001b[0;36m_LocIndexer._get_listlike_indexer\u001b[1;34m(self, key, axis)\u001b[0m\n\u001b[0;32m   1311\u001b[0m \u001b[39melse\u001b[39;00m:\n\u001b[0;32m   1312\u001b[0m     keyarr, indexer, new_indexer \u001b[39m=\u001b[39m ax\u001b[39m.\u001b[39m_reindex_non_unique(keyarr)\n\u001b[1;32m-> 1314\u001b[0m \u001b[39mself\u001b[39;49m\u001b[39m.\u001b[39;49m_validate_read_indexer(keyarr, indexer, axis)\n\u001b[0;32m   1316\u001b[0m \u001b[39mif\u001b[39;00m needs_i8_conversion(ax\u001b[39m.\u001b[39mdtype) \u001b[39mor\u001b[39;00m \u001b[39misinstance\u001b[39m(\n\u001b[0;32m   1317\u001b[0m     ax, (IntervalIndex, CategoricalIndex)\n\u001b[0;32m   1318\u001b[0m ):\n\u001b[0;32m   1319\u001b[0m     \u001b[39m# For CategoricalIndex take instead of reindex to preserve dtype.\u001b[39;00m\n\u001b[0;32m   1320\u001b[0m     \u001b[39m#  For IntervalIndex this is to map integers to the Intervals they match to.\u001b[39;00m\n\u001b[0;32m   1321\u001b[0m     keyarr \u001b[39m=\u001b[39m ax\u001b[39m.\u001b[39mtake(indexer)\n",
      "File \u001b[1;32mc:\\Users\\moral\\miniconda3\\envs\\gwmod\\lib\\site-packages\\pandas\\core\\indexing.py:1374\u001b[0m, in \u001b[0;36m_LocIndexer._validate_read_indexer\u001b[1;34m(self, key, indexer, axis)\u001b[0m\n\u001b[0;32m   1372\u001b[0m     \u001b[39mif\u001b[39;00m use_interval_msg:\n\u001b[0;32m   1373\u001b[0m         key \u001b[39m=\u001b[39m \u001b[39mlist\u001b[39m(key)\n\u001b[1;32m-> 1374\u001b[0m     \u001b[39mraise\u001b[39;00m \u001b[39mKeyError\u001b[39;00m(\u001b[39mf\u001b[39m\u001b[39m\"\u001b[39m\u001b[39mNone of [\u001b[39m\u001b[39m{\u001b[39;00mkey\u001b[39m}\u001b[39;00m\u001b[39m] are in the [\u001b[39m\u001b[39m{\u001b[39;00maxis_name\u001b[39m}\u001b[39;00m\u001b[39m]\u001b[39m\u001b[39m\"\u001b[39m)\n\u001b[0;32m   1376\u001b[0m not_found \u001b[39m=\u001b[39m \u001b[39mlist\u001b[39m(ensure_index(key)[missing_mask\u001b[39m.\u001b[39mnonzero()[\u001b[39m0\u001b[39m]]\u001b[39m.\u001b[39munique())\n\u001b[0;32m   1377\u001b[0m \u001b[39mraise\u001b[39;00m \u001b[39mKeyError\u001b[39;00m(\u001b[39mf\u001b[39m\u001b[39m\"\u001b[39m\u001b[39m{\u001b[39;00mnot_found\u001b[39m}\u001b[39;00m\u001b[39m not in index\u001b[39m\u001b[39m\"\u001b[39m)\n",
      "\u001b[1;31mKeyError\u001b[0m: \"None of [Float64Index([              -1000.0,               -999.99,\\n                            -999.98,               -999.97,\\n                            -999.96,               -999.95,\\n                            -999.94,    -999.9300000000001,\\n                 -999.9200000000001,    -999.9100000000001,\\n              ...\\n               -0.10000000090940375,  -0.09000000090941285,\\n               -0.08000000090942194,  -0.07000000090943104,\\n               -0.06000000090944013,  -0.05000000090944923,\\n               -0.04000000090945832, -0.030000000909467417,\\n              -0.020000000909476512, -0.010000000909485607],\\n             dtype='float64', length=100000)] are in the [columns]\""
     ]
    }
   ],
   "source": [
    "for key in soilList:\n",
    "    df = soilDict[key]\n",
    "    ax = df.plot(df.hm,df.K_unsat)\n",
    "    "
   ]
  },
  {
   "attachments": {},
   "cell_type": "markdown",
   "metadata": {},
   "source": [
    "#### Problem two"
   ]
  },
  {
   "attachments": {},
   "cell_type": "markdown",
   "metadata": {},
   "source": [
    "#### Problem three"
   ]
  },
  {
   "attachments": {},
   "cell_type": "markdown",
   "metadata": {},
   "source": [
    "sdf"
   ]
  }
 ],
 "metadata": {
  "kernelspec": {
   "display_name": "gwmod",
   "language": "python",
   "name": "python3"
  },
  "language_info": {
   "codemirror_mode": {
    "name": "ipython",
    "version": 3
   },
   "file_extension": ".py",
   "mimetype": "text/x-python",
   "name": "python",
   "nbconvert_exporter": "python",
   "pygments_lexer": "ipython3",
   "version": "3.8.12"
  },
  "orig_nbformat": 4
 },
 "nbformat": 4,
 "nbformat_minor": 2
}
